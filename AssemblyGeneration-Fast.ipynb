{
 "cells": [
  {
   "cell_type": "markdown",
   "id": "0f509e6f",
   "metadata": {},
   "source": [
    "# Assembly Tree Generation and Evaluation"
   ]
  },
  {
   "cell_type": "markdown",
   "id": "e2fd718d",
   "metadata": {},
   "source": [
    "## Formulation\n",
    " - State Space S = {Every Possible Subassembly}\n",
    " - Action Space A = {Every Connection that can currently be removed}\n",
    " - P(s'|s,a) = Feasability Checks\n",
    " - R(s,a) = Cost of removing a certain + the \n",
    " - Graph Assumption for modelling the \n",
    "\n",
    "## Notes\n",
    " - Next Steps:\n",
    "     - Randomly generate rewards and show pathing possible\n",
    "     - Rewards as a distance cost\n"
   ]
  },
  {
   "cell_type": "code",
   "execution_count": 1,
   "id": "18fe214c",
   "metadata": {},
   "outputs": [],
   "source": [
    "import sys, random, math, time\n",
    "import networkx as nx\n",
    "import matplotlib.pyplot as plt\n",
    "from pyvis.network import Network"
   ]
  },
  {
   "cell_type": "markdown",
   "id": "ab6698d7",
   "metadata": {},
   "source": [
    "## Preliminary Code (Object Classes)"
   ]
  },
  {
   "cell_type": "code",
   "execution_count": 2,
   "id": "9b138767",
   "metadata": {},
   "outputs": [],
   "source": [
    "class part:\n",
    "    def __init__(self, number):\n",
    "        self.num = number\n",
    "        self.length = 1\n",
    "        self.width = 1\n",
    "        self.pos = []\n",
    "        self.vel = []\n",
    "    \n",
    "    def toJSON(self):\n",
    "        return json.dumps(self, default=lambda o: o.__dict__, sort_keys=True, indent=4)\n",
    "    def __str__(self):\n",
    "        return \"Part \" + str(self.num)\n",
    "    def __repr__(self):\n",
    "        return \"Part \" + str(self.num)"
   ]
  },
  {
   "cell_type": "markdown",
   "id": "63b2aacf",
   "metadata": {},
   "source": [
    "# HELPER FUNCTIONS"
   ]
  },
  {
   "cell_type": "code",
   "execution_count": 3,
   "id": "501d1556",
   "metadata": {},
   "outputs": [],
   "source": [
    "def hierarchy_pos(G, root=None, width=20., vert_gap = 0.4, vert_loc = 0, xcenter = 0.5):  \n",
    "    # From Joel's answer at https://stackoverflow.com/a/29597209/2966723.  \n",
    "    def _hierarchy_pos(G, root, width=1., vert_gap = 0.2, vert_loc = 0, xcenter = 0.5, pos = None, parent = None):   \n",
    "        if pos is None:\n",
    "            pos = {root:(xcenter,vert_loc)}\n",
    "        else:\n",
    "            pos[root] = (xcenter, vert_loc)\n",
    "        children = list(G.neighbors(root))\n",
    "        if not isinstance(G, nx.DiGraph) and parent is not None:\n",
    "            children.remove(parent)  \n",
    "        if len(children)!=0:\n",
    "            dx = width/len(children) \n",
    "            nextx = xcenter - width/2 - dx/2\n",
    "            for child in children:\n",
    "                nextx += dx\n",
    "                pos = _hierarchy_pos(G,child, width = dx, vert_gap = vert_gap, \n",
    "                                    vert_loc = vert_loc-vert_gap, xcenter=nextx,\n",
    "                                    pos=pos, parent = root)\n",
    "        return pos          \n",
    "    return _hierarchy_pos(G, root, width, vert_gap, vert_loc, xcenter)\n",
    "\n",
    "\n",
    "# Generating Subassemblies in a recursive manner\n",
    "def recurGen(p, H, G):\n",
    "    currCon = list(H.edges())\n",
    "    if(len(currCon) > 0):\n",
    "        i = G.number_of_nodes() + 1\n",
    "        for c in currCon:\n",
    "            Hnew = H.copy()\n",
    "            Hnew.remove_edges_from([c])\n",
    "            if(c in seqConstraint.keys() and seqConstraint[c] in Hnew.edges()):\n",
    "                pass # This means a feasability constraint has been failed!\n",
    "            else:\n",
    "                idString = str(Hnew.edges())\n",
    "                nextState = next((x for x, y in nx.get_node_attributes(G,'idS').items() if y == idString), None)\n",
    "                if(nextState is not None):\n",
    "                    G.add_node(i, idS=idString)\n",
    "                    G.add_edge(p,i, a=c, r=R(p,c))\n",
    "                    G.add_edge(i,nextState, a=c, r=R(p,c))\n",
    "                else:\n",
    "                    G.add_node(i, idS=idString)\n",
    "                    G.add_edge(p,i, a=c, r=R(p,c))\n",
    "                    G = recurGen(i, Hnew, G)\n",
    "            i = G.number_of_nodes() + 1\n",
    "        return G\n",
    "    else:\n",
    "        return G\n",
    "    \n",
    "    \n",
    "# Checking Feasability\n",
    "def P(sN, s, a):\n",
    "    # Geometric Feasability\n",
    "    pass\n",
    "    # Sequential Constraints again\n",
    "\n",
    "\n",
    "def genRewards(assembled):\n",
    "    Rewards = {i: random.randint(0, 10) for i in list(assembled.H.edges())}\n",
    "    return Rewards\n",
    "\n",
    "def R(s, a):\n",
    "    if((s,a) not in Rewards.keys()):\n",
    "        Rewards[(s,a)] = random.randint(0, 10)\n",
    "    return Rewards[(s,a)]"
   ]
  },
  {
   "cell_type": "markdown",
   "id": "e2b4822d",
   "metadata": {},
   "source": [
    "## Scenario Initialization"
   ]
  },
  {
   "cell_type": "code",
   "execution_count": 9,
   "id": "be918507",
   "metadata": {},
   "outputs": [
    {
     "name": "stdout",
     "output_type": "stream",
     "text": [
      "CONFIGURATION: \n",
      "\t9 Parts,\n",
      "\t36 Connections in Assembly,\n",
      "\t1011182700521015807199154524577551133704193 Subassemblies, \n",
      "\t1011182700521015807199154524577551133704192 Potential Edges, \n",
      "\t2 Sequential Constraints\n"
     ]
    }
   ],
   "source": [
    "# Initialize the inputs (will later read in from file [JSON])\n",
    "numAgents = 1\n",
    "numParts = 9\n",
    "#define topology\n",
    "H = nx.Graph()\n",
    "H.add_edge(1,2)\n",
    "H.add_edge(2,3)\n",
    "H.add_edge(1,4)\n",
    "H.add_edge(5,4)\n",
    "H.add_edge(5,2)\n",
    "H.add_edge(6,5)\n",
    "H.add_edge(6,3)\n",
    "H.add_edge(7,4)\n",
    "H.add_edge(8,7)\n",
    "H.add_edge(8,5)\n",
    "H.add_edge(9,8)\n",
    "H.add_edge(9,6)\n",
    "numConnections = int(numParts*(numParts-1)/2)\n",
    "numActions = int(sum([float(math.factorial(numConnections))/float(math.factorial(i)) for i in range(0, numConnections)]))\n",
    "numStates = numActions+1\n",
    "\n",
    "#SEQUENCING CONSTRAINTS (will later read in from file [JSON])\n",
    "# Of the format {connection touple: connection touple that must be remove first}\n",
    "\n",
    "seqConstraint = {(4,5): (1,2),\n",
    "                (4,5): (7,8),\n",
    "                (5,6): (2,3),\n",
    "                (5,6): (8,9)}\n",
    "\n",
    "print(\"CONFIGURATION: \\n\\t%d Parts,\\n\\t%d Connections in Assembly,\\n\\t%d Subassemblies, \\n\\t%d Potential Edges, \\n\\t%d Sequential Constraints\"\\\n",
    "      % (numParts, numConnections, numStates, numActions, len(seqConstraint)))"
   ]
  },
  {
   "cell_type": "markdown",
   "id": "0691aa6f",
   "metadata": {},
   "source": [
    "## Running the Assembly Generation"
   ]
  },
  {
   "cell_type": "code",
   "execution_count": 10,
   "id": "3834a25a",
   "metadata": {},
   "outputs": [
    {
     "name": "stdout",
     "output_type": "stream",
     "text": [
      "Assembly Generation Time: 19.670890\n",
      "[(1, 2), (1, 4), (2, 3), (2, 5), (3, 6), (4, 5), (4, 7), (5, 6), (5, 8), (6, 9), (7, 8), (8, 9)]\n",
      "DONE: 12289 Nodes and 22273 Edges\n"
     ]
    }
   ],
   "source": [
    "# Simple initial initialization (will later read in from file [JSON])\n",
    "Rewards = {}\n",
    "\n",
    "# Generate the assembly tree\n",
    "start = time.time()\n",
    "G = nx.DiGraph()\n",
    "G.add_node(1, idS=str(H.edges()))\n",
    "G = recurGen(1, H, G)\n",
    "end = time.time()\n",
    "print(\"Assembly Generation Time: %f\" % (end-start))\n",
    "\n",
    "\n",
    "print(list(H.edges()))\n",
    "print(\"DONE: %d Nodes and %d Edges\" % (G.number_of_nodes(), G.number_of_edges()))"
   ]
  },
  {
   "cell_type": "markdown",
   "id": "ba04eb42",
   "metadata": {},
   "source": [
    "## Value Iteration"
   ]
  },
  {
   "cell_type": "code",
   "execution_count": 11,
   "id": "fcc5b5e0",
   "metadata": {
    "scrolled": true
   },
   "outputs": [
    {
     "name": "stdout",
     "output_type": "stream",
     "text": [
      "Converged!\n",
      "Value Iteration Time: 0.405459\n"
     ]
    }
   ],
   "source": [
    "def ValueIteration(G, H, maxIter, eps):\n",
    "    S = range(1, G.number_of_nodes()+1)\n",
    "    A = list(H.edges())\n",
    "\n",
    "    V = {s: 0.0 for s in S}\n",
    "    Vnew = V.copy()\n",
    "    π = {s: (0, (0,0)) for s in S}\n",
    "    delta = max([abs(V[s] - Vnew[s]) for s in S])\n",
    "\n",
    "    c = 0\n",
    "    while(c <= maxIter):\n",
    "        delta = 0\n",
    "        for s in S:\n",
    "            nextStates = G[s]\n",
    "            for sN in nextStates.items():\n",
    "                newV = sN[1]['r'] + V[sN[0]]\n",
    "                if(newV > Vnew[s]):\n",
    "                    Vnew[s] = newV\n",
    "                    π[s] = (sN[0], sN[1]['a'])\n",
    "        delta = max([abs(V[s] - Vnew[s]) for s in S])\n",
    "        if(delta < eps):\n",
    "            print(\"Converged!\")\n",
    "            return Vnew, π\n",
    "        V = Vnew.copy()\n",
    "        c += 1\n",
    "    print(\"Done\")\n",
    "\n",
    "maxIter = 100000\n",
    "eps = 1e-6\n",
    "start = time.time()\n",
    "V, π = ValueIteration(G, H, maxIter, eps)\n",
    "end = time.time()\n",
    "print(\"Value Iteration Time: %f\" % (end-start))"
   ]
  },
  {
   "cell_type": "markdown",
   "id": "b145cf9a",
   "metadata": {},
   "source": [
    "# Graphing Suite"
   ]
  },
  {
   "cell_type": "code",
   "execution_count": 12,
   "id": "421f5ac5",
   "metadata": {},
   "outputs": [
    {
     "ename": "NetworkXException",
     "evalue": "G is not planar.",
     "output_type": "error",
     "traceback": [
      "\u001b[0;31m---------------------------------------------------------------------------\u001b[0m",
      "\u001b[0;31mKeyboardInterrupt\u001b[0m                         Traceback (most recent call last)",
      "\u001b[0;32m/tmp/ipykernel_152/1710977859.py\u001b[0m in \u001b[0;36m<module>\u001b[0;34m\u001b[0m\n\u001b[1;32m      1\u001b[0m \u001b[0;32mtry\u001b[0m\u001b[0;34m:\u001b[0m\u001b[0;34m\u001b[0m\u001b[0;34m\u001b[0m\u001b[0m\n\u001b[0;32m----> 2\u001b[0;31m     \u001b[0mpos\u001b[0m \u001b[0;34m=\u001b[0m \u001b[0mhierarchy_pos\u001b[0m\u001b[0;34m(\u001b[0m\u001b[0mG\u001b[0m\u001b[0;34m,\u001b[0m\u001b[0;36m1\u001b[0m\u001b[0;34m)\u001b[0m\u001b[0;34m\u001b[0m\u001b[0;34m\u001b[0m\u001b[0m\n\u001b[0m\u001b[1;32m      3\u001b[0m \u001b[0;32mexcept\u001b[0m\u001b[0;34m:\u001b[0m\u001b[0;34m\u001b[0m\u001b[0;34m\u001b[0m\u001b[0m\n",
      "\u001b[0;32m/tmp/ipykernel_152/3280572780.py\u001b[0m in \u001b[0;36mhierarchy_pos\u001b[0;34m(G, root, width, vert_gap, vert_loc, xcenter)\u001b[0m\n\u001b[1;32m     19\u001b[0m         \u001b[0;32mreturn\u001b[0m \u001b[0mpos\u001b[0m\u001b[0;34m\u001b[0m\u001b[0;34m\u001b[0m\u001b[0m\n\u001b[0;32m---> 20\u001b[0;31m     \u001b[0;32mreturn\u001b[0m \u001b[0m_hierarchy_pos\u001b[0m\u001b[0;34m(\u001b[0m\u001b[0mG\u001b[0m\u001b[0;34m,\u001b[0m \u001b[0mroot\u001b[0m\u001b[0;34m,\u001b[0m \u001b[0mwidth\u001b[0m\u001b[0;34m,\u001b[0m \u001b[0mvert_gap\u001b[0m\u001b[0;34m,\u001b[0m \u001b[0mvert_loc\u001b[0m\u001b[0;34m,\u001b[0m \u001b[0mxcenter\u001b[0m\u001b[0;34m)\u001b[0m\u001b[0;34m\u001b[0m\u001b[0;34m\u001b[0m\u001b[0m\n\u001b[0m\u001b[1;32m     21\u001b[0m \u001b[0;34m\u001b[0m\u001b[0m\n",
      "\u001b[0;32m/tmp/ipykernel_152/3280572780.py\u001b[0m in \u001b[0;36m_hierarchy_pos\u001b[0;34m(G, root, width, vert_gap, vert_loc, xcenter, pos, parent)\u001b[0m\n\u001b[1;32m     15\u001b[0m                 \u001b[0mnextx\u001b[0m \u001b[0;34m+=\u001b[0m \u001b[0mdx\u001b[0m\u001b[0;34m\u001b[0m\u001b[0;34m\u001b[0m\u001b[0m\n\u001b[0;32m---> 16\u001b[0;31m                 pos = _hierarchy_pos(G,child, width = dx, vert_gap = vert_gap, \n\u001b[0m\u001b[1;32m     17\u001b[0m                                     \u001b[0mvert_loc\u001b[0m \u001b[0;34m=\u001b[0m \u001b[0mvert_loc\u001b[0m\u001b[0;34m-\u001b[0m\u001b[0mvert_gap\u001b[0m\u001b[0;34m,\u001b[0m \u001b[0mxcenter\u001b[0m\u001b[0;34m=\u001b[0m\u001b[0mnextx\u001b[0m\u001b[0;34m,\u001b[0m\u001b[0;34m\u001b[0m\u001b[0;34m\u001b[0m\u001b[0m\n",
      "\u001b[0;32m/tmp/ipykernel_152/3280572780.py\u001b[0m in \u001b[0;36m_hierarchy_pos\u001b[0;34m(G, root, width, vert_gap, vert_loc, xcenter, pos, parent)\u001b[0m\n\u001b[1;32m     15\u001b[0m                 \u001b[0mnextx\u001b[0m \u001b[0;34m+=\u001b[0m \u001b[0mdx\u001b[0m\u001b[0;34m\u001b[0m\u001b[0;34m\u001b[0m\u001b[0m\n\u001b[0;32m---> 16\u001b[0;31m                 pos = _hierarchy_pos(G,child, width = dx, vert_gap = vert_gap, \n\u001b[0m\u001b[1;32m     17\u001b[0m                                     \u001b[0mvert_loc\u001b[0m \u001b[0;34m=\u001b[0m \u001b[0mvert_loc\u001b[0m\u001b[0;34m-\u001b[0m\u001b[0mvert_gap\u001b[0m\u001b[0;34m,\u001b[0m \u001b[0mxcenter\u001b[0m\u001b[0;34m=\u001b[0m\u001b[0mnextx\u001b[0m\u001b[0;34m,\u001b[0m\u001b[0;34m\u001b[0m\u001b[0;34m\u001b[0m\u001b[0m\n",
      "\u001b[0;32m/tmp/ipykernel_152/3280572780.py\u001b[0m in \u001b[0;36m_hierarchy_pos\u001b[0;34m(G, root, width, vert_gap, vert_loc, xcenter, pos, parent)\u001b[0m\n\u001b[1;32m     15\u001b[0m                 \u001b[0mnextx\u001b[0m \u001b[0;34m+=\u001b[0m \u001b[0mdx\u001b[0m\u001b[0;34m\u001b[0m\u001b[0;34m\u001b[0m\u001b[0m\n\u001b[0;32m---> 16\u001b[0;31m                 pos = _hierarchy_pos(G,child, width = dx, vert_gap = vert_gap, \n\u001b[0m\u001b[1;32m     17\u001b[0m                                     \u001b[0mvert_loc\u001b[0m \u001b[0;34m=\u001b[0m \u001b[0mvert_loc\u001b[0m\u001b[0;34m-\u001b[0m\u001b[0mvert_gap\u001b[0m\u001b[0;34m,\u001b[0m \u001b[0mxcenter\u001b[0m\u001b[0;34m=\u001b[0m\u001b[0mnextx\u001b[0m\u001b[0;34m,\u001b[0m\u001b[0;34m\u001b[0m\u001b[0;34m\u001b[0m\u001b[0m\n",
      "\u001b[0;32m/tmp/ipykernel_152/3280572780.py\u001b[0m in \u001b[0;36m_hierarchy_pos\u001b[0;34m(G, root, width, vert_gap, vert_loc, xcenter, pos, parent)\u001b[0m\n\u001b[1;32m     15\u001b[0m                 \u001b[0mnextx\u001b[0m \u001b[0;34m+=\u001b[0m \u001b[0mdx\u001b[0m\u001b[0;34m\u001b[0m\u001b[0;34m\u001b[0m\u001b[0m\n\u001b[0;32m---> 16\u001b[0;31m                 pos = _hierarchy_pos(G,child, width = dx, vert_gap = vert_gap, \n\u001b[0m\u001b[1;32m     17\u001b[0m                                     \u001b[0mvert_loc\u001b[0m \u001b[0;34m=\u001b[0m \u001b[0mvert_loc\u001b[0m\u001b[0;34m-\u001b[0m\u001b[0mvert_gap\u001b[0m\u001b[0;34m,\u001b[0m \u001b[0mxcenter\u001b[0m\u001b[0;34m=\u001b[0m\u001b[0mnextx\u001b[0m\u001b[0;34m,\u001b[0m\u001b[0;34m\u001b[0m\u001b[0;34m\u001b[0m\u001b[0m\n",
      "\u001b[0;32m/tmp/ipykernel_152/3280572780.py\u001b[0m in \u001b[0;36m_hierarchy_pos\u001b[0;34m(G, root, width, vert_gap, vert_loc, xcenter, pos, parent)\u001b[0m\n\u001b[1;32m     15\u001b[0m                 \u001b[0mnextx\u001b[0m \u001b[0;34m+=\u001b[0m \u001b[0mdx\u001b[0m\u001b[0;34m\u001b[0m\u001b[0;34m\u001b[0m\u001b[0m\n\u001b[0;32m---> 16\u001b[0;31m                 pos = _hierarchy_pos(G,child, width = dx, vert_gap = vert_gap, \n\u001b[0m\u001b[1;32m     17\u001b[0m                                     \u001b[0mvert_loc\u001b[0m \u001b[0;34m=\u001b[0m \u001b[0mvert_loc\u001b[0m\u001b[0;34m-\u001b[0m\u001b[0mvert_gap\u001b[0m\u001b[0;34m,\u001b[0m \u001b[0mxcenter\u001b[0m\u001b[0;34m=\u001b[0m\u001b[0mnextx\u001b[0m\u001b[0;34m,\u001b[0m\u001b[0;34m\u001b[0m\u001b[0;34m\u001b[0m\u001b[0m\n",
      "\u001b[0;32m/tmp/ipykernel_152/3280572780.py\u001b[0m in \u001b[0;36m_hierarchy_pos\u001b[0;34m(G, root, width, vert_gap, vert_loc, xcenter, pos, parent)\u001b[0m\n\u001b[1;32m     15\u001b[0m                 \u001b[0mnextx\u001b[0m \u001b[0;34m+=\u001b[0m \u001b[0mdx\u001b[0m\u001b[0;34m\u001b[0m\u001b[0;34m\u001b[0m\u001b[0m\n\u001b[0;32m---> 16\u001b[0;31m                 pos = _hierarchy_pos(G,child, width = dx, vert_gap = vert_gap, \n\u001b[0m\u001b[1;32m     17\u001b[0m                                     \u001b[0mvert_loc\u001b[0m \u001b[0;34m=\u001b[0m \u001b[0mvert_loc\u001b[0m\u001b[0;34m-\u001b[0m\u001b[0mvert_gap\u001b[0m\u001b[0;34m,\u001b[0m \u001b[0mxcenter\u001b[0m\u001b[0;34m=\u001b[0m\u001b[0mnextx\u001b[0m\u001b[0;34m,\u001b[0m\u001b[0;34m\u001b[0m\u001b[0;34m\u001b[0m\u001b[0m\n",
      "\u001b[0;32m/tmp/ipykernel_152/3280572780.py\u001b[0m in \u001b[0;36m_hierarchy_pos\u001b[0;34m(G, root, width, vert_gap, vert_loc, xcenter, pos, parent)\u001b[0m\n\u001b[1;32m     15\u001b[0m                 \u001b[0mnextx\u001b[0m \u001b[0;34m+=\u001b[0m \u001b[0mdx\u001b[0m\u001b[0;34m\u001b[0m\u001b[0;34m\u001b[0m\u001b[0m\n\u001b[0;32m---> 16\u001b[0;31m                 pos = _hierarchy_pos(G,child, width = dx, vert_gap = vert_gap, \n\u001b[0m\u001b[1;32m     17\u001b[0m                                     \u001b[0mvert_loc\u001b[0m \u001b[0;34m=\u001b[0m \u001b[0mvert_loc\u001b[0m\u001b[0;34m-\u001b[0m\u001b[0mvert_gap\u001b[0m\u001b[0;34m,\u001b[0m \u001b[0mxcenter\u001b[0m\u001b[0;34m=\u001b[0m\u001b[0mnextx\u001b[0m\u001b[0;34m,\u001b[0m\u001b[0;34m\u001b[0m\u001b[0;34m\u001b[0m\u001b[0m\n",
      "\u001b[0;32m/tmp/ipykernel_152/3280572780.py\u001b[0m in \u001b[0;36m_hierarchy_pos\u001b[0;34m(G, root, width, vert_gap, vert_loc, xcenter, pos, parent)\u001b[0m\n\u001b[1;32m     15\u001b[0m                 \u001b[0mnextx\u001b[0m \u001b[0;34m+=\u001b[0m \u001b[0mdx\u001b[0m\u001b[0;34m\u001b[0m\u001b[0;34m\u001b[0m\u001b[0m\n\u001b[0;32m---> 16\u001b[0;31m                 pos = _hierarchy_pos(G,child, width = dx, vert_gap = vert_gap, \n\u001b[0m\u001b[1;32m     17\u001b[0m                                     \u001b[0mvert_loc\u001b[0m \u001b[0;34m=\u001b[0m \u001b[0mvert_loc\u001b[0m\u001b[0;34m-\u001b[0m\u001b[0mvert_gap\u001b[0m\u001b[0;34m,\u001b[0m \u001b[0mxcenter\u001b[0m\u001b[0;34m=\u001b[0m\u001b[0mnextx\u001b[0m\u001b[0;34m,\u001b[0m\u001b[0;34m\u001b[0m\u001b[0;34m\u001b[0m\u001b[0m\n",
      "\u001b[0;32m/tmp/ipykernel_152/3280572780.py\u001b[0m in \u001b[0;36m_hierarchy_pos\u001b[0;34m(G, root, width, vert_gap, vert_loc, xcenter, pos, parent)\u001b[0m\n\u001b[1;32m     15\u001b[0m                 \u001b[0mnextx\u001b[0m \u001b[0;34m+=\u001b[0m \u001b[0mdx\u001b[0m\u001b[0;34m\u001b[0m\u001b[0;34m\u001b[0m\u001b[0m\n\u001b[0;32m---> 16\u001b[0;31m                 pos = _hierarchy_pos(G,child, width = dx, vert_gap = vert_gap, \n\u001b[0m\u001b[1;32m     17\u001b[0m                                     \u001b[0mvert_loc\u001b[0m \u001b[0;34m=\u001b[0m \u001b[0mvert_loc\u001b[0m\u001b[0;34m-\u001b[0m\u001b[0mvert_gap\u001b[0m\u001b[0;34m,\u001b[0m \u001b[0mxcenter\u001b[0m\u001b[0;34m=\u001b[0m\u001b[0mnextx\u001b[0m\u001b[0;34m,\u001b[0m\u001b[0;34m\u001b[0m\u001b[0;34m\u001b[0m\u001b[0m\n",
      "\u001b[0;32m/tmp/ipykernel_152/3280572780.py\u001b[0m in \u001b[0;36m_hierarchy_pos\u001b[0;34m(G, root, width, vert_gap, vert_loc, xcenter, pos, parent)\u001b[0m\n\u001b[1;32m     15\u001b[0m                 \u001b[0mnextx\u001b[0m \u001b[0;34m+=\u001b[0m \u001b[0mdx\u001b[0m\u001b[0;34m\u001b[0m\u001b[0;34m\u001b[0m\u001b[0m\n\u001b[0;32m---> 16\u001b[0;31m                 pos = _hierarchy_pos(G,child, width = dx, vert_gap = vert_gap, \n\u001b[0m\u001b[1;32m     17\u001b[0m                                     \u001b[0mvert_loc\u001b[0m \u001b[0;34m=\u001b[0m \u001b[0mvert_loc\u001b[0m\u001b[0;34m-\u001b[0m\u001b[0mvert_gap\u001b[0m\u001b[0;34m,\u001b[0m \u001b[0mxcenter\u001b[0m\u001b[0;34m=\u001b[0m\u001b[0mnextx\u001b[0m\u001b[0;34m,\u001b[0m\u001b[0;34m\u001b[0m\u001b[0;34m\u001b[0m\u001b[0m\n",
      "\u001b[0;32m/tmp/ipykernel_152/3280572780.py\u001b[0m in \u001b[0;36m_hierarchy_pos\u001b[0;34m(G, root, width, vert_gap, vert_loc, xcenter, pos, parent)\u001b[0m\n\u001b[1;32m     15\u001b[0m                 \u001b[0mnextx\u001b[0m \u001b[0;34m+=\u001b[0m \u001b[0mdx\u001b[0m\u001b[0;34m\u001b[0m\u001b[0;34m\u001b[0m\u001b[0m\n\u001b[0;32m---> 16\u001b[0;31m                 pos = _hierarchy_pos(G,child, width = dx, vert_gap = vert_gap, \n\u001b[0m\u001b[1;32m     17\u001b[0m                                     \u001b[0mvert_loc\u001b[0m \u001b[0;34m=\u001b[0m \u001b[0mvert_loc\u001b[0m\u001b[0;34m-\u001b[0m\u001b[0mvert_gap\u001b[0m\u001b[0;34m,\u001b[0m \u001b[0mxcenter\u001b[0m\u001b[0;34m=\u001b[0m\u001b[0mnextx\u001b[0m\u001b[0;34m,\u001b[0m\u001b[0;34m\u001b[0m\u001b[0;34m\u001b[0m\u001b[0m\n",
      "\u001b[0;32m/tmp/ipykernel_152/3280572780.py\u001b[0m in \u001b[0;36m_hierarchy_pos\u001b[0;34m(G, root, width, vert_gap, vert_loc, xcenter, pos, parent)\u001b[0m\n\u001b[1;32m     15\u001b[0m                 \u001b[0mnextx\u001b[0m \u001b[0;34m+=\u001b[0m \u001b[0mdx\u001b[0m\u001b[0;34m\u001b[0m\u001b[0;34m\u001b[0m\u001b[0m\n\u001b[0;32m---> 16\u001b[0;31m                 pos = _hierarchy_pos(G,child, width = dx, vert_gap = vert_gap, \n\u001b[0m\u001b[1;32m     17\u001b[0m                                     \u001b[0mvert_loc\u001b[0m \u001b[0;34m=\u001b[0m \u001b[0mvert_loc\u001b[0m\u001b[0;34m-\u001b[0m\u001b[0mvert_gap\u001b[0m\u001b[0;34m,\u001b[0m \u001b[0mxcenter\u001b[0m\u001b[0;34m=\u001b[0m\u001b[0mnextx\u001b[0m\u001b[0;34m,\u001b[0m\u001b[0;34m\u001b[0m\u001b[0;34m\u001b[0m\u001b[0m\n",
      "\u001b[0;32m/tmp/ipykernel_152/3280572780.py\u001b[0m in \u001b[0;36m_hierarchy_pos\u001b[0;34m(G, root, width, vert_gap, vert_loc, xcenter, pos, parent)\u001b[0m\n\u001b[1;32m     15\u001b[0m                 \u001b[0mnextx\u001b[0m \u001b[0;34m+=\u001b[0m \u001b[0mdx\u001b[0m\u001b[0;34m\u001b[0m\u001b[0;34m\u001b[0m\u001b[0m\n\u001b[0;32m---> 16\u001b[0;31m                 pos = _hierarchy_pos(G,child, width = dx, vert_gap = vert_gap, \n\u001b[0m\u001b[1;32m     17\u001b[0m                                     \u001b[0mvert_loc\u001b[0m \u001b[0;34m=\u001b[0m \u001b[0mvert_loc\u001b[0m\u001b[0;34m-\u001b[0m\u001b[0mvert_gap\u001b[0m\u001b[0;34m,\u001b[0m \u001b[0mxcenter\u001b[0m\u001b[0;34m=\u001b[0m\u001b[0mnextx\u001b[0m\u001b[0;34m,\u001b[0m\u001b[0;34m\u001b[0m\u001b[0;34m\u001b[0m\u001b[0m\n",
      "\u001b[0;32m/tmp/ipykernel_152/3280572780.py\u001b[0m in \u001b[0;36m_hierarchy_pos\u001b[0;34m(G, root, width, vert_gap, vert_loc, xcenter, pos, parent)\u001b[0m\n\u001b[1;32m     15\u001b[0m                 \u001b[0mnextx\u001b[0m \u001b[0;34m+=\u001b[0m \u001b[0mdx\u001b[0m\u001b[0;34m\u001b[0m\u001b[0;34m\u001b[0m\u001b[0m\n\u001b[0;32m---> 16\u001b[0;31m                 pos = _hierarchy_pos(G,child, width = dx, vert_gap = vert_gap, \n\u001b[0m\u001b[1;32m     17\u001b[0m                                     \u001b[0mvert_loc\u001b[0m \u001b[0;34m=\u001b[0m \u001b[0mvert_loc\u001b[0m\u001b[0;34m-\u001b[0m\u001b[0mvert_gap\u001b[0m\u001b[0;34m,\u001b[0m \u001b[0mxcenter\u001b[0m\u001b[0;34m=\u001b[0m\u001b[0mnextx\u001b[0m\u001b[0;34m,\u001b[0m\u001b[0;34m\u001b[0m\u001b[0;34m\u001b[0m\u001b[0m\n",
      "\u001b[0;32m/tmp/ipykernel_152/3280572780.py\u001b[0m in \u001b[0;36m_hierarchy_pos\u001b[0;34m(G, root, width, vert_gap, vert_loc, xcenter, pos, parent)\u001b[0m\n\u001b[1;32m     15\u001b[0m                 \u001b[0mnextx\u001b[0m \u001b[0;34m+=\u001b[0m \u001b[0mdx\u001b[0m\u001b[0;34m\u001b[0m\u001b[0;34m\u001b[0m\u001b[0m\n\u001b[0;32m---> 16\u001b[0;31m                 pos = _hierarchy_pos(G,child, width = dx, vert_gap = vert_gap, \n\u001b[0m\u001b[1;32m     17\u001b[0m                                     \u001b[0mvert_loc\u001b[0m \u001b[0;34m=\u001b[0m \u001b[0mvert_loc\u001b[0m\u001b[0;34m-\u001b[0m\u001b[0mvert_gap\u001b[0m\u001b[0;34m,\u001b[0m \u001b[0mxcenter\u001b[0m\u001b[0;34m=\u001b[0m\u001b[0mnextx\u001b[0m\u001b[0;34m,\u001b[0m\u001b[0;34m\u001b[0m\u001b[0;34m\u001b[0m\u001b[0m\n",
      "\u001b[0;32m/tmp/ipykernel_152/3280572780.py\u001b[0m in \u001b[0;36m_hierarchy_pos\u001b[0;34m(G, root, width, vert_gap, vert_loc, xcenter, pos, parent)\u001b[0m\n\u001b[1;32m     15\u001b[0m                 \u001b[0mnextx\u001b[0m \u001b[0;34m+=\u001b[0m \u001b[0mdx\u001b[0m\u001b[0;34m\u001b[0m\u001b[0;34m\u001b[0m\u001b[0m\n\u001b[0;32m---> 16\u001b[0;31m                 pos = _hierarchy_pos(G,child, width = dx, vert_gap = vert_gap, \n\u001b[0m\u001b[1;32m     17\u001b[0m                                     \u001b[0mvert_loc\u001b[0m \u001b[0;34m=\u001b[0m \u001b[0mvert_loc\u001b[0m\u001b[0;34m-\u001b[0m\u001b[0mvert_gap\u001b[0m\u001b[0;34m,\u001b[0m \u001b[0mxcenter\u001b[0m\u001b[0;34m=\u001b[0m\u001b[0mnextx\u001b[0m\u001b[0;34m,\u001b[0m\u001b[0;34m\u001b[0m\u001b[0;34m\u001b[0m\u001b[0m\n",
      "\u001b[0;32m/tmp/ipykernel_152/3280572780.py\u001b[0m in \u001b[0;36m_hierarchy_pos\u001b[0;34m(G, root, width, vert_gap, vert_loc, xcenter, pos, parent)\u001b[0m\n\u001b[1;32m     16\u001b[0m                 pos = _hierarchy_pos(G,child, width = dx, vert_gap = vert_gap, \n\u001b[0;32m---> 17\u001b[0;31m                                     \u001b[0mvert_loc\u001b[0m \u001b[0;34m=\u001b[0m \u001b[0mvert_loc\u001b[0m\u001b[0;34m-\u001b[0m\u001b[0mvert_gap\u001b[0m\u001b[0;34m,\u001b[0m \u001b[0mxcenter\u001b[0m\u001b[0;34m=\u001b[0m\u001b[0mnextx\u001b[0m\u001b[0;34m,\u001b[0m\u001b[0;34m\u001b[0m\u001b[0;34m\u001b[0m\u001b[0m\n\u001b[0m\u001b[1;32m     18\u001b[0m                                     pos=pos, parent = root)\n",
      "\u001b[0;31mKeyboardInterrupt\u001b[0m: ",
      "\nDuring handling of the above exception, another exception occurred:\n",
      "\u001b[0;31mNetworkXException\u001b[0m                         Traceback (most recent call last)",
      "\u001b[0;32m/tmp/ipykernel_152/1710977859.py\u001b[0m in \u001b[0;36m<module>\u001b[0;34m\u001b[0m\n\u001b[1;32m      2\u001b[0m     \u001b[0mpos\u001b[0m \u001b[0;34m=\u001b[0m \u001b[0mhierarchy_pos\u001b[0m\u001b[0;34m(\u001b[0m\u001b[0mG\u001b[0m\u001b[0;34m,\u001b[0m\u001b[0;36m1\u001b[0m\u001b[0;34m)\u001b[0m\u001b[0;34m\u001b[0m\u001b[0;34m\u001b[0m\u001b[0m\n\u001b[1;32m      3\u001b[0m \u001b[0;32mexcept\u001b[0m\u001b[0;34m:\u001b[0m\u001b[0;34m\u001b[0m\u001b[0;34m\u001b[0m\u001b[0m\n\u001b[0;32m----> 4\u001b[0;31m     \u001b[0mpos\u001b[0m \u001b[0;34m=\u001b[0m \u001b[0mnx\u001b[0m\u001b[0;34m.\u001b[0m\u001b[0mplanar_layout\u001b[0m\u001b[0;34m(\u001b[0m\u001b[0mG\u001b[0m\u001b[0;34m)\u001b[0m\u001b[0;34m\u001b[0m\u001b[0;34m\u001b[0m\u001b[0m\n\u001b[0m\u001b[1;32m      5\u001b[0m \u001b[0mactions\u001b[0m \u001b[0;34m=\u001b[0m \u001b[0mnx\u001b[0m\u001b[0;34m.\u001b[0m\u001b[0mget_edge_attributes\u001b[0m\u001b[0;34m(\u001b[0m\u001b[0mG\u001b[0m\u001b[0;34m,\u001b[0m\u001b[0;34m'r'\u001b[0m\u001b[0;34m)\u001b[0m\u001b[0;34m\u001b[0m\u001b[0;34m\u001b[0m\u001b[0m\n\u001b[1;32m      6\u001b[0m \u001b[0mlabels\u001b[0m \u001b[0;34m=\u001b[0m \u001b[0mnx\u001b[0m\u001b[0;34m.\u001b[0m\u001b[0mget_node_attributes\u001b[0m\u001b[0;34m(\u001b[0m\u001b[0mG\u001b[0m\u001b[0;34m,\u001b[0m\u001b[0;34m'r'\u001b[0m\u001b[0;34m)\u001b[0m\u001b[0;34m\u001b[0m\u001b[0;34m\u001b[0m\u001b[0m\n",
      "\u001b[0;32m~/anaconda3/lib/python3.9/site-packages/networkx/drawing/layout.py\u001b[0m in \u001b[0;36mplanar_layout\u001b[0;34m(G, scale, center, dim)\u001b[0m\n\u001b[1;32m    938\u001b[0m         \u001b[0mis_planar\u001b[0m\u001b[0;34m,\u001b[0m \u001b[0membedding\u001b[0m \u001b[0;34m=\u001b[0m \u001b[0mnx\u001b[0m\u001b[0;34m.\u001b[0m\u001b[0mcheck_planarity\u001b[0m\u001b[0;34m(\u001b[0m\u001b[0mG\u001b[0m\u001b[0;34m)\u001b[0m\u001b[0;34m\u001b[0m\u001b[0;34m\u001b[0m\u001b[0m\n\u001b[1;32m    939\u001b[0m         \u001b[0;32mif\u001b[0m \u001b[0;32mnot\u001b[0m \u001b[0mis_planar\u001b[0m\u001b[0;34m:\u001b[0m\u001b[0;34m\u001b[0m\u001b[0;34m\u001b[0m\u001b[0m\n\u001b[0;32m--> 940\u001b[0;31m             \u001b[0;32mraise\u001b[0m \u001b[0mnx\u001b[0m\u001b[0;34m.\u001b[0m\u001b[0mNetworkXException\u001b[0m\u001b[0;34m(\u001b[0m\u001b[0;34m\"G is not planar.\"\u001b[0m\u001b[0;34m)\u001b[0m\u001b[0;34m\u001b[0m\u001b[0;34m\u001b[0m\u001b[0m\n\u001b[0m\u001b[1;32m    941\u001b[0m     \u001b[0mpos\u001b[0m \u001b[0;34m=\u001b[0m \u001b[0mnx\u001b[0m\u001b[0;34m.\u001b[0m\u001b[0mcombinatorial_embedding_to_pos\u001b[0m\u001b[0;34m(\u001b[0m\u001b[0membedding\u001b[0m\u001b[0;34m)\u001b[0m\u001b[0;34m\u001b[0m\u001b[0;34m\u001b[0m\u001b[0m\n\u001b[1;32m    942\u001b[0m     \u001b[0mnode_list\u001b[0m \u001b[0;34m=\u001b[0m \u001b[0mlist\u001b[0m\u001b[0;34m(\u001b[0m\u001b[0membedding\u001b[0m\u001b[0;34m)\u001b[0m\u001b[0;34m\u001b[0m\u001b[0;34m\u001b[0m\u001b[0m\n",
      "\u001b[0;31mNetworkXException\u001b[0m: G is not planar."
     ]
    }
   ],
   "source": [
    "try:\n",
    "    pos = hierarchy_pos(G,1)\n",
    "except:\n",
    "    pos = nx.planar_layout(G)\n",
    "actions = nx.get_edge_attributes(G,'r')\n",
    "labels = nx.get_node_attributes(G,'r')\n",
    "nx.draw(G, pos, with_labels=True, font_color=\"#FFFFFF\")\n",
    "nx.draw_networkx_edge_labels(G, pos, edge_labels = actions)\n",
    "\n",
    "\n",
    "try:\n",
    "    S = range(1, G.number_of_nodes()+1)\n",
    "    path = [1, π[1][0]]\n",
    "    path_edges = [(1, path[-1])]\n",
    "    while(True):\n",
    "        currState = path[-1]\n",
    "        nextState = π[currState][0]\n",
    "        if(nextState in S):\n",
    "            path.append(nextState)\n",
    "            path_edges.append((currState, nextState))\n",
    "        else:\n",
    "            break\n",
    "    print(path_edges)\n",
    "    nx.draw_networkx_nodes(G,pos,nodelist=path,node_color='r')\n",
    "    nx.draw_networkx_edges(G,pos,edgelist=path_edges,edge_color='r',width=1)\n",
    "except:\n",
    "    print(\"No Policy Found\")\n",
    "\n",
    "print(\"DONE: %d Nodes and %d Edges\" % (G.number_of_nodes(), G.number_of_edges()))"
   ]
  },
  {
   "cell_type": "code",
   "execution_count": 8,
   "id": "32c2f27a",
   "metadata": {
    "scrolled": false
   },
   "outputs": [
    {
     "data": {
      "image/png": "[encoded data removed]",
      "text/plain": [
       "<Figure size 640x480 with 1 Axes>"
      ]
     },
     "metadata": {},
     "output_type": "display_data"
    }
   ],
   "source": [
    "nx.draw(H, with_labels=True, font_color=\"#FFFFFF\")"
   ]
  },
  {
   "cell_type": "code",
   "execution_count": null,
   "id": "c58db6b5",
   "metadata": {},
   "outputs": [],
   "source": [
    "V = G.copy()\n",
    "try:\n",
    "    plotVis(V)\n",
    "except:\n",
    "    try:\n",
    "        plotVis(V)\n",
    "    except:\n",
    "        print(\"Nope!\")"
   ]
  }
 ],
 "metadata": {
  "kernelspec": {
   "display_name": "Python 3 (ipykernel)",
   "language": "python",
   "name": "python3"
  },
  "language_info": {
   "codemirror_mode": {
    "name": "ipython",
    "version": 3
   },
   "file_extension": ".py",
   "mimetype": "text/x-python",
   "name": "python",
   "nbconvert_exporter": "python",
   "pygments_lexer": "ipython3",
   "version": "3.10.8"
  }
 },
 "nbformat": 4,
 "nbformat_minor": 5
}
