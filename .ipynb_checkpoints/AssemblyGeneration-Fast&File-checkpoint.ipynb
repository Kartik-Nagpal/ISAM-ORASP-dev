{
 "cells": [
  {
   "cell_type": "markdown",
   "id": "0f509e6f",
   "metadata": {},
   "source": [
    "# Assembly Tree Generation and Evaluation"
   ]
  },
  {
   "cell_type": "markdown",
   "id": "e2fd718d",
   "metadata": {},
   "source": [
    "## Formulation\n",
    " - State Space S = {Every Possible Subassembly}\n",
    " - Action Space A = {Every Connection that can currently be removed}\n",
    " - P(s'|s,a) = Feasability Checks\n",
    " - R(s,a) = Cost of removing a certain + the \n",
    " - Graph Assumption for modelling the \n",
    "\n",
    "## Notes\n",
    " - Next Steps:\n",
    "     - Randomly generate rewards and show pathing possible\n",
    "     - Rewards as a distance cost\n"
   ]
  },
  {
   "cell_type": "code",
   "execution_count": 15,
   "id": "18fe214c",
   "metadata": {},
   "outputs": [],
   "source": [
    "import sys, random, math, time\n",
    "import networkx as nx\n",
    "import matplotlib.pyplot as plt\n",
    "from pyvis.network import Network"
   ]
  },
  {
   "cell_type": "markdown",
   "id": "ab6698d7",
   "metadata": {},
   "source": [
    "## Preliminary Code (Object Classes)"
   ]
  },
  {
   "cell_type": "code",
   "execution_count": 16,
   "id": "9b138767",
   "metadata": {},
   "outputs": [],
   "source": [
    "class part:\n",
    "    def __init__(self, number):\n",
    "        self.num = number\n",
    "        self.length = 1\n",
    "        self.width = 1\n",
    "        self.pos = []\n",
    "        self.vel = []\n",
    "    \n",
    "    def toJSON(self):\n",
    "        return json.dumps(self, default=lambda o: o.__dict__, sort_keys=True, indent=4)\n",
    "    def __str__(self):\n",
    "        return \"Part \" + str(self.num)\n",
    "    def __repr__(self):\n",
    "        return \"Part \" + str(self.num)"
   ]
  },
  {
   "cell_type": "markdown",
   "id": "63b2aacf",
   "metadata": {},
   "source": [
    "# HELPER FUNCTIONS"
   ]
  },
  {
   "cell_type": "code",
   "execution_count": 17,
   "id": "501d1556",
   "metadata": {},
   "outputs": [],
   "source": [
    "def hierarchy_pos(G, root=None, width=20., vert_gap = 0.4, vert_loc = 0, xcenter = 0.5):  \n",
    "    # From Joel's answer at https://stackoverflow.com/a/29597209/2966723.  \n",
    "    def _hierarchy_pos(G, root, width=1., vert_gap = 0.2, vert_loc = 0, xcenter = 0.5, pos = None, parent = None):   \n",
    "        if pos is None:\n",
    "            pos = {root:(xcenter,vert_loc)}\n",
    "        else:\n",
    "            pos[root] = (xcenter, vert_loc)\n",
    "        children = list(G.neighbors(root))\n",
    "        if not isinstance(G, nx.DiGraph) and parent is not None:\n",
    "            children.remove(parent)  \n",
    "        if len(children)!=0:\n",
    "            dx = width/len(children) \n",
    "            nextx = xcenter - width/2 - dx/2\n",
    "            for child in children:\n",
    "                nextx += dx\n",
    "                pos = _hierarchy_pos(G,child, width = dx, vert_gap = vert_gap, \n",
    "                                    vert_loc = vert_loc-vert_gap, xcenter=nextx,\n",
    "                                    pos=pos, parent = root)\n",
    "        return pos          \n",
    "    return _hierarchy_pos(G, root, width, vert_gap, vert_loc, xcenter)\n",
    "\n",
    "\n",
    "# Generating Subassemblies in a recursive manner\n",
    "def recurGen(p, H, G):\n",
    "    currCon = list(H.edges())\n",
    "    if(len(currCon) > 0):\n",
    "        i = G.number_of_nodes() + 1\n",
    "        for c in currCon:\n",
    "            Hnew = H.copy()\n",
    "            Hnew.remove_edges_from([c])\n",
    "            if(c in seqConstraint.keys() and seqConstraint[c] in Hnew.edges()):\n",
    "                pass # This means a feasability constraint has been failed!\n",
    "            else:\n",
    "                idString = str(Hnew.edges())\n",
    "                nextState = next((x for x, y in nx.get_node_attributes(G,'idS').items() if y == idString), None)\n",
    "                if(nextState is not None):\n",
    "                    Rew, Hnew = R(p,c,H)\n",
    "                    G.add_edge(p,nextState, a=c, r=Rew)\n",
    "                else:\n",
    "                    G.add_node(i, idS=idString)\n",
    "                    Rew, Hnew = R(p,c,H)\n",
    "                    G.add_edge(p,i, a=c, r=Rew)\n",
    "                    G = recurGen(i, Hnew, G)\n",
    "            i = G.number_of_nodes() + 1\n",
    "        return G\n",
    "    else:\n",
    "        return G\n",
    "    \n",
    "    \n",
    "# Checking Feasability\n",
    "def P(sN, s, a):\n",
    "    # Geometric Feasability\n",
    "    pass\n",
    "    # Sequential Constraints again\n",
    "\n",
    "\n",
    "# def genRewards(assembled):\n",
    "#     Rewards = {i: random.randint(0, 10) for i in list(assembled.H.edges())}\n",
    "#     return Rewards\n",
    "\n",
    "def R(s, a, H):\n",
    "    if((s,a) not in Rewards.keys()):\n",
    "        Rewards[(s,a)] = 0\n",
    "        \n",
    "        APieces = list(nx.connected_components(H))\n",
    "        Hnew = H.copy()\n",
    "        Hnew.remove_edges_from([a])\n",
    "        BPieces = list(nx.connected_components(Hnew))\n",
    "        if(Hnew.number_of_edges() == 0): # Check if fully deconstructed\n",
    "            Rewards[(s,a)] = 1\n",
    "        elif(len(BPieces) - len(APieces) > 0):\n",
    "            diffPieces = [list(i) for i in BPieces if i not in APieces and len(i) <= 3]\n",
    "            # Check if removing last connection for a given part\n",
    "            for i in diffPieces:\n",
    "                # Check if creating multiple assemblies and sizes of these new assemblies\n",
    "                if(len(i) == 1):\n",
    "                    if(Hnew.nodes[i[0]][\"loc\"] == \"CL\"): # Going from CL to SV\n",
    "                        Hnew.nodes[i[0]][\"loc\"] = \"SV\"\n",
    "                        Rewards[(s,a)] += -(0.0522 + 0.0399) #SV-CL + CL-SV\n",
    "                    else: # Going from CAZ to SV\n",
    "                        Hnew.nodes[i[0]][\"loc\"] = \"SV\"\n",
    "                        Rewards[(s,a)] += -(0.0403 + 0.0420) #SV-CAZ + CAZ-SV\n",
    "                \n",
    "                if(len(i) == 2):\n",
    "                    for p in i:\n",
    "                        if(Hnew.nodes[p][\"loc\"] == \"CL\"): # Going from CL to CAZ\n",
    "                            Hnew.nodes[p][\"loc\"] = \"CAZ\"\n",
    "                            Rewards[(s,a)] += -(0.0501 + 0.0519) #SV-CL + CL-CAZ2\n",
    "                    \n",
    "                if(len(i) == 3):\n",
    "                    for p in i:\n",
    "                        if(Hnew.nodes[p][\"loc\"] == \"CL\"): # Going from CL to CAZ\n",
    "                            Hnew.nodes[p][\"loc\"] = \"CAZ\"\n",
    "                            Rewards[(s,a)] += -(0.0501 + 0.0832) #SV-CL + CL-CAZ3\n",
    "    return Rewards[(s,a)], Hnew"
   ]
  },
  {
   "cell_type": "markdown",
   "id": "e2b4822d",
   "metadata": {},
   "source": [
    "## Scenario Initialization"
   ]
  },
  {
   "cell_type": "code",
   "execution_count": 18,
   "id": "73a95de7",
   "metadata": {},
   "outputs": [
    {
     "name": "stdout",
     "output_type": "stream",
     "text": [
      "CONFIGURATION: \n",
      "\t9 Parts,\n",
      "\t12 Connections in Assembly,\n",
      "\t1302061345 Subassemblies, \n",
      "\t1302061344 Potential Edges, \n",
      "\t4 Sequential Constraints\n"
     ]
    }
   ],
   "source": [
    "# LATTICE\n",
    "\n",
    "#define topology\n",
    "H = nx.Graph()\n",
    "H.add_edge(1,2)\n",
    "H.add_edge(2,3)\n",
    "H.add_edge(1,4)\n",
    "H.add_edge(5,4)\n",
    "H.add_edge(5,2)\n",
    "H.add_edge(6,5)\n",
    "H.add_edge(6,3)\n",
    "H.add_edge(7,4)\n",
    "H.add_edge(8,7)\n",
    "H.add_edge(8,5)\n",
    "H.add_edge(9,8)\n",
    "H.add_edge(9,6)\n",
    "nx.set_node_attributes(H, \"CL\", \"loc\")\n",
    "\n",
    "numParts = H.number_of_nodes()\n",
    "numConnections = H.number_of_edges()\n",
    "numActions = int(sum([float(math.factorial(numConnections))/float(math.factorial(i)) for i in range(0, numConnections)]))\n",
    "numStates = numActions+1\n",
    "\n",
    "#SEQUENCING CONSTRAINTS (will later read in from file [JSON])\n",
    "# Of the format {connection touple: connection touple that must be remove first}\n",
    "\n",
    "seqConstraint = {(2,5): (1,4),\n",
    "                 (2,5): (3,6),\n",
    "                 (4,5): (1,2),\n",
    "                 (4,5): (7,8),\n",
    "                 (5,8): (4,7),\n",
    "                 (5,8): (6,9),\n",
    "                 (5,6): (2,3),\n",
    "                 (5,6): (8,9)}\n",
    "\n",
    "print(\"CONFIGURATION: \\n\\t%d Parts,\\n\\t%d Connections in Assembly,\\n\\t%d Subassemblies, \\n\\t%d Potential Edges, \\n\\t%d Sequential Constraints\"\\\n",
    "      % (numParts, numConnections, numStates, numActions, len(seqConstraint)))"
   ]
  },
  {
   "cell_type": "code",
   "execution_count": 5,
   "id": "be918507",
   "metadata": {},
   "outputs": [
    {
     "name": "stdout",
     "output_type": "stream",
     "text": [
      "CONFIGURATION: \n",
      "\t6 Parts,\n",
      "\t7 Connections in Assembly,\n",
      "\t13700 Subassemblies, \n",
      "\t13699 Potential Edges, \n",
      "\t0 Sequential Constraints\n"
     ]
    }
   ],
   "source": [
    "# Initialize the inputs (will later read in from file [JSON])\n",
    "\n",
    "#define topology \n",
    "H = nx.Graph()\n",
    "H.add_edge(1,2)\n",
    "H.add_edge(2,3)\n",
    "H.add_edge(1,4)\n",
    "H.add_edge(5,4)\n",
    "H.add_edge(5,2)\n",
    "H.add_edge(6,5)\n",
    "H.add_edge(6,3)\n",
    "nx.set_node_attributes(H, \"CL\", \"loc\")\n",
    "\n",
    "numParts = H.number_of_nodes()\n",
    "numConnections = H.number_of_edges()\n",
    "numActions = int(sum([float(math.factorial(numConnections))/float(math.factorial(i)) for i in range(0, numConnections)]))\n",
    "numStates = numActions+1\n",
    "\n",
    "#SEQUENCING CONSTRAINTS (will later read in from file [JSON])\n",
    "# Of the format {connection touple: connection touple that must be remove first}\n",
    "seqConstraint = {}\n",
    "\n",
    "print(\"CONFIGURATION: \\n\\t%d Parts,\\n\\t%d Connections in Assembly,\\n\\t%d Subassemblies, \\n\\t%d Potential Edges, \\n\\t%d Sequential Constraints\"\\\n",
    "      % (numParts, numConnections, numStates, numActions, len(seqConstraint)))"
   ]
  },
  {
   "cell_type": "markdown",
   "id": "0691aa6f",
   "metadata": {},
   "source": [
    "## Running the Assembly Generation"
   ]
  },
  {
   "cell_type": "code",
   "execution_count": 19,
   "id": "3834a25a",
   "metadata": {},
   "outputs": [
    {
     "name": "stdout",
     "output_type": "stream",
     "text": [
      "Assembly Generation Time: 1.349879\n",
      "[(1, 2), (1, 4), (2, 3), (2, 5), (3, 6), (4, 5), (4, 7), (5, 6), (5, 8), (6, 9), (7, 8), (8, 9)]\n",
      "DONE: 1296 Nodes and 6048 Edges\n"
     ]
    }
   ],
   "source": [
    "# Simple initial initialization (will later read in from file [JSON])\n",
    "Rewards = {}\n",
    "\n",
    "# Generate the assembly tree\n",
    "start = time.time()\n",
    "G = nx.DiGraph()\n",
    "G.add_node(1, idS=str(H.edges()))\n",
    "G = recurGen(1, H, G)\n",
    "end = time.time()\n",
    "print(\"Assembly Generation Time: %f\" % (end-start))\n",
    "\n",
    "\n",
    "print(list(H.edges()))\n",
    "print(\"DONE: %d Nodes and %d Edges\" % (G.number_of_nodes(), G.number_of_edges()))"
   ]
  },
  {
   "cell_type": "markdown",
   "id": "ba04eb42",
   "metadata": {},
   "source": [
    "## Value Iteration"
   ]
  },
  {
   "cell_type": "code",
   "execution_count": 20,
   "id": "fcc5b5e0",
   "metadata": {
    "scrolled": true
   },
   "outputs": [
    {
     "name": "stdout",
     "output_type": "stream",
     "text": [
      "Converged!\n",
      "Value Iteration Time: 0.038423\n",
      "1 {2: {'a': (1, 2), 'r': 0}, 650: {'a': (1, 4), 'r': 0}, 974: {'a': (2, 3), 'r': 0}, 1136: {'a': (3, 6), 'r': 0}, 1244: {'a': (4, 7), 'r': 0}, 1271: {'a': (6, 9), 'r': 0}, 1289: {'a': (7, 8), 'r': 0}, 1295: {'a': (8, 9), 'r': 0}}\n",
      "2 {3: {'a': (1, 4), 'r': -0.0829}, 327: {'a': (2, 3), 'r': 0}, 489: {'a': (3, 6), 'r': 0}, 597: {'a': (4, 7), 'r': 0}, 624: {'a': (6, 9), 'r': 0}, 642: {'a': (7, 8), 'r': 0}, 648: {'a': (8, 9), 'r': 0}}\n",
      "327 {4: {'a': (1, 4), 'r': -0.0829}, 328: {'a': (3, 6), 'r': -0.0829}, 436: {'a': (4, 7), 'r': 0}, 463: {'a': (6, 9), 'r': 0}, 481: {'a': (7, 8), 'r': 0}, 487: {'a': (8, 9), 'r': 0}}\n",
      "481 {158: {'a': (1, 4), 'r': -0.0829}, 428: {'a': (3, 6), 'r': -0.0829}, 482: {'a': (4, 5), 'r': -0.39990000000000003}, 455: {'a': (4, 7), 'r': -0.0829}, 473: {'a': (6, 9), 'r': 0}, 485: {'a': (8, 9), 'r': 0}}\n",
      "482 {159: {'a': (1, 4), 'r': -0.0722}, 429: {'a': (3, 6), 'r': -0.0829}, 456: {'a': (4, 7), 'r': -0.0722}, 474: {'a': (6, 9), 'r': 0}, 483: {'a': (8, 9), 'r': 0}}\n",
      "159 {106: {'a': (3, 6), 'r': -0.0829}, 133: {'a': (4, 7), 'r': -0.1444}, 151: {'a': (6, 9), 'r': 0}, 160: {'a': (8, 9), 'r': 0}}\n",
      "160 {107: {'a': (3, 6), 'r': -0.0829}, 134: {'a': (4, 7), 'r': -0.1444}, 161: {'a': (5, 6), 'r': -0.7998}, 152: {'a': (6, 9), 'r': -0.0829}}\n",
      "161 {108: {'a': (3, 6), 'r': -0.0722}, 135: {'a': (4, 7), 'r': -0.1444}, 153: {'a': (6, 9), 'r': -0.0722}}\n",
      "108 {55: {'a': (2, 5), 'r': -0.0722}, 82: {'a': (4, 7), 'r': -0.1444}, 100: {'a': (6, 9), 'r': -0.1444}}\n",
      "55 {29: {'a': (4, 7), 'r': -0.1444}, 47: {'a': (6, 9), 'r': -0.1444}}\n",
      "29 {21: {'a': (6, 9), 'r': -0.1444}}\n",
      "21 {13: {'a': (5, 8), 'r': 1}}\n",
      "0\n",
      "[(1, 2), (2, 327), (327, 481), (481, 482), (482, 159), (159, 160), (160, 161), (161, 108), (108, 55), (55, 29), (29, 21)]\n",
      "12\n",
      "[(1, 2), (2, 3), (7, 8), (4, 5), (1, 4), (8, 9), (5, 6), (3, 6), (2, 5), (4, 7), (6, 9), (0, 0)]\n"
     ]
    }
   ],
   "source": [
    "def ValueIteration(G, H, maxIter, eps):\n",
    "    S = range(1, G.number_of_nodes()+1)\n",
    "    A = list(H.edges())\n",
    "\n",
    "    V = {s: 2 for s in S}\n",
    "    Vnew = V.copy()\n",
    "    π = {s: (0, (0,0)) for s in S}\n",
    "    delta = max([abs(V[s] - Vnew[s]) for s in S])\n",
    "\n",
    "    c = 0\n",
    "    while(c <= maxIter):\n",
    "        delta = 0\n",
    "        for s in S:\n",
    "            nextStates = G[s]\n",
    "            for sN in nextStates.items():\n",
    "                newV = sN[1]['r'] + V[sN[0]]\n",
    "                if(newV < Vnew[s]):\n",
    "                    Vnew[s] = newV\n",
    "                    π[s] = (sN[0], sN[1]['a'])\n",
    "        delta = max([abs(V[s] - Vnew[s]) for s in S])\n",
    "        if(delta < eps):\n",
    "            print(\"Converged!\")\n",
    "            return Vnew, π\n",
    "        V = Vnew.copy()\n",
    "        c += 1\n",
    "    print(\"Done\")\n",
    "\n",
    "maxIter = 100000\n",
    "eps = 1e-8\n",
    "start = time.time()\n",
    "V, π = ValueIteration(G, H, maxIter, eps)\n",
    "#print(V)\n",
    "# print(π)\n",
    "end = time.time()\n",
    "print(\"Value Iteration Time: %f\" % (end-start))\n",
    "\n",
    "try:\n",
    "    S = range(1, G.number_of_nodes()+1)\n",
    "    path = [1, π[1][0]]\n",
    "    path_edges = [(1, path[-1])]\n",
    "    dissassemblyStrat = [π[path[0]][1], π[path[-1]][1]]\n",
    "    print(path[0], G[path[0]])\n",
    "    while(True):\n",
    "        currState = path[-1]\n",
    "        print(currState, G[currState])\n",
    "        nextState = π[currState][0]\n",
    "        if(nextState in S):\n",
    "            path.append(nextState)\n",
    "            path_edges.append((currState, nextState))\n",
    "            dissassemblyStrat.append(π[nextState][1])\n",
    "        else:\n",
    "            print(nextState)\n",
    "            break\n",
    "    print(path_edges)\n",
    "    print(len(path))\n",
    "    print(dissassemblyStrat)    \n",
    "except:\n",
    "    print(\"No Policy Found\")"
   ]
  },
  {
   "cell_type": "code",
   "execution_count": 24,
   "id": "12a5c0e9",
   "metadata": {},
   "outputs": [
    {
     "name": "stdout",
     "output_type": "stream",
     "text": [
      "[1, 2, 327, 436, 437, 114, 61, 8, 18, 19, 20, 21, 13]\n",
      "1 {'idS': '[(1, 2), (1, 4), (2, 3), (2, 5), (3, 6), (4, 5), (4, 7), (5, 6), (5, 8), (6, 9), (7, 8), (8, 9)]'}\n",
      "2 {'idS': '[(1, 4), (2, 3), (2, 5), (3, 6), (4, 5), (4, 7), (5, 6), (5, 8), (6, 9), (7, 8), (8, 9)]'}\n",
      "327 {'idS': '[(1, 4), (2, 5), (3, 6), (4, 5), (4, 7), (5, 6), (5, 8), (6, 9), (7, 8), (8, 9)]'}\n",
      "436 {'idS': '[(1, 4), (2, 5), (3, 6), (4, 5), (5, 6), (5, 8), (6, 9), (7, 8), (8, 9)]'}\n",
      "437 {'idS': '[(1, 4), (2, 5), (3, 6), (4, 5), (5, 6), (5, 8), (7, 8), (8, 9)]'}\n",
      "114 {'idS': '[(2, 5), (3, 6), (4, 5), (5, 6), (5, 8), (7, 8), (8, 9)]'}\n",
      "61 {'idS': '[(2, 5), (4, 5), (5, 6), (5, 8), (7, 8), (8, 9)]'}\n",
      "8 {'idS': '[(4, 5), (5, 6), (5, 8), (7, 8), (8, 9)]'}\n",
      "18 {'idS': '[(4, 5), (5, 6), (5, 8), (8, 9)]'}\n",
      "19 {'idS': '[(5, 6), (5, 8), (8, 9)]'}\n",
      "20 {'idS': '[(5, 6), (5, 8)]'}\n",
      "21 {'idS': '[(5, 8)]'}\n",
      "13 {'idS': '[]'}\n"
     ]
    }
   ],
   "source": [
    "costs = nx.get_edge_attributes(G,'r')\n",
    "e = [(i[0], i[1], -costs[i]) for i in costs.keys()]\n",
    "G.add_weighted_edges_from(e)\n",
    "path = nx.dijkstra_path(G, 1, H.number_of_edges()+1)\n",
    "print(path)\n",
    "for i in path:\n",
    "    print(i, G.nodes()[i])"
   ]
  },
  {
   "cell_type": "markdown",
   "id": "b145cf9a",
   "metadata": {},
   "source": [
    "# Graphing Suite"
   ]
  },
  {
   "cell_type": "code",
   "execution_count": 22,
   "id": "421f5ac5",
   "metadata": {},
   "outputs": [
    {
     "ename": "NetworkXException",
     "evalue": "G is not planar.",
     "output_type": "error",
     "traceback": [
      "\u001b[0;31m---------------------------------------------------------------------------\u001b[0m",
      "\u001b[0;31mKeyboardInterrupt\u001b[0m                         Traceback (most recent call last)",
      "Cell \u001b[0;32mIn [22], line 2\u001b[0m\n\u001b[1;32m      1\u001b[0m \u001b[38;5;28;01mtry\u001b[39;00m:\n\u001b[0;32m----> 2\u001b[0m     pos \u001b[38;5;241m=\u001b[39m \u001b[43mhierarchy_pos\u001b[49m\u001b[43m(\u001b[49m\u001b[43mG\u001b[49m\u001b[43m,\u001b[49m\u001b[38;5;241;43m1\u001b[39;49m\u001b[43m)\u001b[49m\n\u001b[1;32m      3\u001b[0m \u001b[38;5;28;01mexcept\u001b[39;00m:\n",
      "Cell \u001b[0;32mIn [17], line 20\u001b[0m, in \u001b[0;36mhierarchy_pos\u001b[0;34m(G, root, width, vert_gap, vert_loc, xcenter)\u001b[0m\n\u001b[1;32m     19\u001b[0m     \u001b[38;5;28;01mreturn\u001b[39;00m pos          \n\u001b[0;32m---> 20\u001b[0m \u001b[38;5;28;01mreturn\u001b[39;00m \u001b[43m_hierarchy_pos\u001b[49m\u001b[43m(\u001b[49m\u001b[43mG\u001b[49m\u001b[43m,\u001b[49m\u001b[43m \u001b[49m\u001b[43mroot\u001b[49m\u001b[43m,\u001b[49m\u001b[43m \u001b[49m\u001b[43mwidth\u001b[49m\u001b[43m,\u001b[49m\u001b[43m \u001b[49m\u001b[43mvert_gap\u001b[49m\u001b[43m,\u001b[49m\u001b[43m \u001b[49m\u001b[43mvert_loc\u001b[49m\u001b[43m,\u001b[49m\u001b[43m \u001b[49m\u001b[43mxcenter\u001b[49m\u001b[43m)\u001b[49m\n",
      "Cell \u001b[0;32mIn [17], line 16\u001b[0m, in \u001b[0;36mhierarchy_pos.<locals>._hierarchy_pos\u001b[0;34m(G, root, width, vert_gap, vert_loc, xcenter, pos, parent)\u001b[0m\n\u001b[1;32m     15\u001b[0m         nextx \u001b[38;5;241m+\u001b[39m\u001b[38;5;241m=\u001b[39m dx\n\u001b[0;32m---> 16\u001b[0m         pos \u001b[38;5;241m=\u001b[39m \u001b[43m_hierarchy_pos\u001b[49m\u001b[43m(\u001b[49m\u001b[43mG\u001b[49m\u001b[43m,\u001b[49m\u001b[43mchild\u001b[49m\u001b[43m,\u001b[49m\u001b[43m \u001b[49m\u001b[43mwidth\u001b[49m\u001b[43m \u001b[49m\u001b[38;5;241;43m=\u001b[39;49m\u001b[43m \u001b[49m\u001b[43mdx\u001b[49m\u001b[43m,\u001b[49m\u001b[43m \u001b[49m\u001b[43mvert_gap\u001b[49m\u001b[43m \u001b[49m\u001b[38;5;241;43m=\u001b[39;49m\u001b[43m \u001b[49m\u001b[43mvert_gap\u001b[49m\u001b[43m,\u001b[49m\u001b[43m \u001b[49m\n\u001b[1;32m     17\u001b[0m \u001b[43m                            \u001b[49m\u001b[43mvert_loc\u001b[49m\u001b[43m \u001b[49m\u001b[38;5;241;43m=\u001b[39;49m\u001b[43m \u001b[49m\u001b[43mvert_loc\u001b[49m\u001b[38;5;241;43m-\u001b[39;49m\u001b[43mvert_gap\u001b[49m\u001b[43m,\u001b[49m\u001b[43m \u001b[49m\u001b[43mxcenter\u001b[49m\u001b[38;5;241;43m=\u001b[39;49m\u001b[43mnextx\u001b[49m\u001b[43m,\u001b[49m\n\u001b[1;32m     18\u001b[0m \u001b[43m                            \u001b[49m\u001b[43mpos\u001b[49m\u001b[38;5;241;43m=\u001b[39;49m\u001b[43mpos\u001b[49m\u001b[43m,\u001b[49m\u001b[43m \u001b[49m\u001b[43mparent\u001b[49m\u001b[43m \u001b[49m\u001b[38;5;241;43m=\u001b[39;49m\u001b[43m \u001b[49m\u001b[43mroot\u001b[49m\u001b[43m)\u001b[49m\n\u001b[1;32m     19\u001b[0m \u001b[38;5;28;01mreturn\u001b[39;00m pos\n",
      "Cell \u001b[0;32mIn [17], line 16\u001b[0m, in \u001b[0;36mhierarchy_pos.<locals>._hierarchy_pos\u001b[0;34m(G, root, width, vert_gap, vert_loc, xcenter, pos, parent)\u001b[0m\n\u001b[1;32m     15\u001b[0m         nextx \u001b[38;5;241m+\u001b[39m\u001b[38;5;241m=\u001b[39m dx\n\u001b[0;32m---> 16\u001b[0m         pos \u001b[38;5;241m=\u001b[39m \u001b[43m_hierarchy_pos\u001b[49m\u001b[43m(\u001b[49m\u001b[43mG\u001b[49m\u001b[43m,\u001b[49m\u001b[43mchild\u001b[49m\u001b[43m,\u001b[49m\u001b[43m \u001b[49m\u001b[43mwidth\u001b[49m\u001b[43m \u001b[49m\u001b[38;5;241;43m=\u001b[39;49m\u001b[43m \u001b[49m\u001b[43mdx\u001b[49m\u001b[43m,\u001b[49m\u001b[43m \u001b[49m\u001b[43mvert_gap\u001b[49m\u001b[43m \u001b[49m\u001b[38;5;241;43m=\u001b[39;49m\u001b[43m \u001b[49m\u001b[43mvert_gap\u001b[49m\u001b[43m,\u001b[49m\u001b[43m \u001b[49m\n\u001b[1;32m     17\u001b[0m \u001b[43m                            \u001b[49m\u001b[43mvert_loc\u001b[49m\u001b[43m \u001b[49m\u001b[38;5;241;43m=\u001b[39;49m\u001b[43m \u001b[49m\u001b[43mvert_loc\u001b[49m\u001b[38;5;241;43m-\u001b[39;49m\u001b[43mvert_gap\u001b[49m\u001b[43m,\u001b[49m\u001b[43m \u001b[49m\u001b[43mxcenter\u001b[49m\u001b[38;5;241;43m=\u001b[39;49m\u001b[43mnextx\u001b[49m\u001b[43m,\u001b[49m\n\u001b[1;32m     18\u001b[0m \u001b[43m                            \u001b[49m\u001b[43mpos\u001b[49m\u001b[38;5;241;43m=\u001b[39;49m\u001b[43mpos\u001b[49m\u001b[43m,\u001b[49m\u001b[43m \u001b[49m\u001b[43mparent\u001b[49m\u001b[43m \u001b[49m\u001b[38;5;241;43m=\u001b[39;49m\u001b[43m \u001b[49m\u001b[43mroot\u001b[49m\u001b[43m)\u001b[49m\n\u001b[1;32m     19\u001b[0m \u001b[38;5;28;01mreturn\u001b[39;00m pos\n",
      "    \u001b[0;31m[... skipping similar frames: hierarchy_pos.<locals>._hierarchy_pos at line 16 (8 times)]\u001b[0m\n",
      "Cell \u001b[0;32mIn [17], line 16\u001b[0m, in \u001b[0;36mhierarchy_pos.<locals>._hierarchy_pos\u001b[0;34m(G, root, width, vert_gap, vert_loc, xcenter, pos, parent)\u001b[0m\n\u001b[1;32m     15\u001b[0m         nextx \u001b[38;5;241m+\u001b[39m\u001b[38;5;241m=\u001b[39m dx\n\u001b[0;32m---> 16\u001b[0m         pos \u001b[38;5;241m=\u001b[39m \u001b[43m_hierarchy_pos\u001b[49m\u001b[43m(\u001b[49m\u001b[43mG\u001b[49m\u001b[43m,\u001b[49m\u001b[43mchild\u001b[49m\u001b[43m,\u001b[49m\u001b[43m \u001b[49m\u001b[43mwidth\u001b[49m\u001b[43m \u001b[49m\u001b[38;5;241;43m=\u001b[39;49m\u001b[43m \u001b[49m\u001b[43mdx\u001b[49m\u001b[43m,\u001b[49m\u001b[43m \u001b[49m\u001b[43mvert_gap\u001b[49m\u001b[43m \u001b[49m\u001b[38;5;241;43m=\u001b[39;49m\u001b[43m \u001b[49m\u001b[43mvert_gap\u001b[49m\u001b[43m,\u001b[49m\u001b[43m \u001b[49m\n\u001b[1;32m     17\u001b[0m \u001b[43m                            \u001b[49m\u001b[43mvert_loc\u001b[49m\u001b[43m \u001b[49m\u001b[38;5;241;43m=\u001b[39;49m\u001b[43m \u001b[49m\u001b[43mvert_loc\u001b[49m\u001b[38;5;241;43m-\u001b[39;49m\u001b[43mvert_gap\u001b[49m\u001b[43m,\u001b[49m\u001b[43m \u001b[49m\u001b[43mxcenter\u001b[49m\u001b[38;5;241;43m=\u001b[39;49m\u001b[43mnextx\u001b[49m\u001b[43m,\u001b[49m\n\u001b[1;32m     18\u001b[0m \u001b[43m                            \u001b[49m\u001b[43mpos\u001b[49m\u001b[38;5;241;43m=\u001b[39;49m\u001b[43mpos\u001b[49m\u001b[43m,\u001b[49m\u001b[43m \u001b[49m\u001b[43mparent\u001b[49m\u001b[43m \u001b[49m\u001b[38;5;241;43m=\u001b[39;49m\u001b[43m \u001b[49m\u001b[43mroot\u001b[49m\u001b[43m)\u001b[49m\n\u001b[1;32m     19\u001b[0m \u001b[38;5;28;01mreturn\u001b[39;00m pos\n",
      "Cell \u001b[0;32mIn [17], line 8\u001b[0m, in \u001b[0;36mhierarchy_pos.<locals>._hierarchy_pos\u001b[0;34m(G, root, width, vert_gap, vert_loc, xcenter, pos, parent)\u001b[0m\n\u001b[1;32m      7\u001b[0m     pos[root] \u001b[38;5;241m=\u001b[39m (xcenter, vert_loc)\n\u001b[0;32m----> 8\u001b[0m children \u001b[38;5;241m=\u001b[39m \u001b[38;5;28;43mlist\u001b[39;49m\u001b[43m(\u001b[49m\u001b[43mG\u001b[49m\u001b[38;5;241;43m.\u001b[39;49m\u001b[43mneighbors\u001b[49m\u001b[43m(\u001b[49m\u001b[43mroot\u001b[49m\u001b[43m)\u001b[49m\u001b[43m)\u001b[49m\n\u001b[1;32m      9\u001b[0m \u001b[38;5;28;01mif\u001b[39;00m \u001b[38;5;129;01mnot\u001b[39;00m \u001b[38;5;28misinstance\u001b[39m(G, nx\u001b[38;5;241m.\u001b[39mDiGraph) \u001b[38;5;129;01mand\u001b[39;00m parent \u001b[38;5;129;01mis\u001b[39;00m \u001b[38;5;129;01mnot\u001b[39;00m \u001b[38;5;28;01mNone\u001b[39;00m:\n",
      "\u001b[0;31mKeyboardInterrupt\u001b[0m: ",
      "\nDuring handling of the above exception, another exception occurred:\n",
      "\u001b[0;31mNetworkXException\u001b[0m                         Traceback (most recent call last)",
      "Cell \u001b[0;32mIn [22], line 4\u001b[0m\n\u001b[1;32m      2\u001b[0m     pos \u001b[38;5;241m=\u001b[39m hierarchy_pos(G,\u001b[38;5;241m1\u001b[39m)\n\u001b[1;32m      3\u001b[0m \u001b[38;5;28;01mexcept\u001b[39;00m:\n\u001b[0;32m----> 4\u001b[0m     pos \u001b[38;5;241m=\u001b[39m \u001b[43mnx\u001b[49m\u001b[38;5;241;43m.\u001b[39;49m\u001b[43mplanar_layout\u001b[49m\u001b[43m(\u001b[49m\u001b[43mG\u001b[49m\u001b[43m)\u001b[49m\n\u001b[1;32m      5\u001b[0m actions \u001b[38;5;241m=\u001b[39m nx\u001b[38;5;241m.\u001b[39mget_edge_attributes(G,\u001b[38;5;124m'\u001b[39m\u001b[38;5;124mr\u001b[39m\u001b[38;5;124m'\u001b[39m)\n\u001b[1;32m      6\u001b[0m nx\u001b[38;5;241m.\u001b[39mdraw(G, pos, with_labels\u001b[38;5;241m=\u001b[39m\u001b[38;5;28;01mTrue\u001b[39;00m, font_color\u001b[38;5;241m=\u001b[39m\u001b[38;5;124m\"\u001b[39m\u001b[38;5;124m#FFFFFF\u001b[39m\u001b[38;5;124m\"\u001b[39m)\n",
      "File \u001b[0;32m~/anaconda3/envs/isat/lib/python3.10/site-packages/networkx/drawing/layout.py:940\u001b[0m, in \u001b[0;36mplanar_layout\u001b[0;34m(G, scale, center, dim)\u001b[0m\n\u001b[1;32m    938\u001b[0m     is_planar, embedding \u001b[38;5;241m=\u001b[39m nx\u001b[38;5;241m.\u001b[39mcheck_planarity(G)\n\u001b[1;32m    939\u001b[0m     \u001b[38;5;28;01mif\u001b[39;00m \u001b[38;5;129;01mnot\u001b[39;00m is_planar:\n\u001b[0;32m--> 940\u001b[0m         \u001b[38;5;28;01mraise\u001b[39;00m nx\u001b[38;5;241m.\u001b[39mNetworkXException(\u001b[38;5;124m\"\u001b[39m\u001b[38;5;124mG is not planar.\u001b[39m\u001b[38;5;124m\"\u001b[39m)\n\u001b[1;32m    941\u001b[0m pos \u001b[38;5;241m=\u001b[39m nx\u001b[38;5;241m.\u001b[39mcombinatorial_embedding_to_pos(embedding)\n\u001b[1;32m    942\u001b[0m node_list \u001b[38;5;241m=\u001b[39m \u001b[38;5;28mlist\u001b[39m(embedding)\n",
      "\u001b[0;31mNetworkXException\u001b[0m: G is not planar."
     ]
    }
   ],
   "source": [
    "try:\n",
    "    pos = hierarchy_pos(G,1)\n",
    "except:\n",
    "    pos = nx.planar_layout(G)\n",
    "actions = nx.get_edge_attributes(G,'r')\n",
    "nx.draw(G, pos, with_labels=True, font_color=\"#FFFFFF\")\n",
    "nx.draw_networkx_edge_labels(G, pos, edge_labels = actions)\n",
    "\n",
    "\n",
    "try:\n",
    "    S = range(1, G.number_of_nodes()+1)\n",
    "    path = [1, π[1][0]]\n",
    "    path_edges = [(1, path[-1])]\n",
    "    while(True):\n",
    "        currState = path[-1]\n",
    "        nextState = π[currState][0]\n",
    "        if(nextState in S):\n",
    "            path.append(nextState)\n",
    "            path_edges.append((currState, nextState))\n",
    "        else:\n",
    "            break\n",
    "    print(path_edges)\n",
    "    nx.draw_networkx_nodes(G,pos,nodelist=path,node_color='r')\n",
    "    nx.draw_networkx_edges(G,pos,edgelist=path_edges,edge_color='r',width=1)\n",
    "except:\n",
    "    print(\"No Policy Found\")\n",
    "\n",
    "print(\"DONE: %d Nodes and %d Edges\" % (G.number_of_nodes(), G.number_of_edges()))"
   ]
  },
  {
   "cell_type": "code",
   "execution_count": 23,
   "id": "32c2f27a",
   "metadata": {
    "scrolled": false
   },
   "outputs": [
    {
     "data": {
      "image/png": "[encoded data removed]",
      "text/plain": [
       "<Figure size 640x480 with 1 Axes>"
      ]
     },
     "metadata": {},
     "output_type": "display_data"
    }
   ],
   "source": [
    "nx.draw(H, with_labels=True, font_color=\"#FFFFFF\")"
   ]
  },
  {
   "cell_type": "code",
   "execution_count": 11,
   "id": "c58db6b5",
   "metadata": {},
   "outputs": [],
   "source": [
    "if(False):\n",
    "    V = G.copy()\n",
    "    try:\n",
    "        plotVis(V)\n",
    "    except:\n",
    "        try:\n",
    "            plotVis(V)\n",
    "        except:\n",
    "            print(\"Nope!\")"
   ]
  }
 ],
 "metadata": {
  "kernelspec": {
   "display_name": "Python 3 (ipykernel)",
   "language": "python",
   "name": "python3"
  },
  "language_info": {
   "codemirror_mode": {
    "name": "ipython",
    "version": 3
   },
   "file_extension": ".py",
   "mimetype": "text/x-python",
   "name": "python",
   "nbconvert_exporter": "python",
   "pygments_lexer": "ipython3",
   "version": "3.10.8"
  }
 },
 "nbformat": 4,
 "nbformat_minor": 5
}
