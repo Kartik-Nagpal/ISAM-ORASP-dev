{
 "cells": [
  {
   "cell_type": "markdown",
   "id": "0f509e6f",
   "metadata": {},
   "source": [
    "# Assembly Tree Generation and Evaluation"
   ]
  },
  {
   "cell_type": "markdown",
   "id": "e2fd718d",
   "metadata": {},
   "source": [
    "## Formulation\n",
    " - State Space S = {Every Possible Subassembly}\n",
    " - Action Space A = {Every Connection that can currently be removed}\n",
    " - P(s'|s,a) = Feasability Checks\n",
    " - R(s,a) = Cost of removing a certain + the \n",
    " - Graph Assumption for modelling the \n",
    "\n",
    "## Notes\n",
    " - Next Steps:\n",
    "     - Randomly generate rewards and show pathing possible\n",
    "     - Rewards as a distance cost\n"
   ]
  },
  {
   "cell_type": "code",
   "execution_count": 1,
   "id": "18fe214c",
   "metadata": {},
   "outputs": [],
   "source": [
    "import sys, random, math, time\n",
    "import networkx as nx\n",
    "import matplotlib.pyplot as plt\n",
    "from pyvis.network import Network"
   ]
  },
  {
   "cell_type": "markdown",
   "id": "63b2aacf",
   "metadata": {},
   "source": [
    "# HELPER FUNCTIONS"
   ]
  },
  {
   "cell_type": "code",
   "execution_count": 2,
   "id": "501d1556",
   "metadata": {},
   "outputs": [],
   "source": [
    "# HTML VERSION Drawing\n",
    "def plotVis(G):\n",
    "    if(len(G.nodes[1]) > 1):\n",
    "        newLabs = {}\n",
    "        for i in G.nodes:\n",
    "            newLabs[i] = G.nodes[i]['value'].getNCL()\n",
    "            del G.nodes[i]['value']\n",
    "        nx.relabel_nodes(G, newLabs, copy=True)\n",
    "    \n",
    "    net = Network(notebook=True)\n",
    "    net.from_nx(G)\n",
    "    name = str(\"NumParts=\" + str(numParts) + \" and NumConstraints=\" + str(len(seqConstraint)) + \".html\")\n",
    "    net.show(name)\n",
    "\n",
    "    \n",
    "def hierarchy_pos(G, root=None, width=20., vert_gap = 0.4, vert_loc = 0, xcenter = 0.5):  \n",
    "    # From Joel's answer at https://stackoverflow.com/a/29597209/2966723.  \n",
    "    def _hierarchy_pos(G, root, width=1., vert_gap = 0.2, vert_loc = 0, xcenter = 0.5, pos = None, parent = None):   \n",
    "        if pos is None:\n",
    "            pos = {root:(xcenter,vert_loc)}\n",
    "        else:\n",
    "            pos[root] = (xcenter, vert_loc)\n",
    "        children = list(G.neighbors(root))\n",
    "        if not isinstance(G, nx.DiGraph) and parent is not None:\n",
    "            children.remove(parent)  \n",
    "        if len(children)!=0:\n",
    "            dx = width/len(children) \n",
    "            nextx = xcenter - width/2 - dx/2\n",
    "            for child in children:\n",
    "                nextx += dx\n",
    "                pos = _hierarchy_pos(G,child, width = dx, vert_gap = vert_gap, \n",
    "                                    vert_loc = vert_loc-vert_gap, xcenter=nextx,\n",
    "                                    pos=pos, parent = root)\n",
    "        return pos          \n",
    "    return _hierarchy_pos(G, root, width, vert_gap, vert_loc, xcenter)\n",
    "\n",
    "\n",
    "# Generating Subassemblies in a recursive manner\n",
    "def recurGen(p, H, G):\n",
    "    currCon = list(H.edges())\n",
    "    if(len(currCon) > 0):\n",
    "        i = G.number_of_nodes() + 1\n",
    "        for c in currCon:\n",
    "            if(i % 1000000 == 0):\n",
    "                print(i)\n",
    "            Hnew = H.copy()\n",
    "            Hnew.remove_edges_from([c])\n",
    "            if(c in seqConstraint.keys() and seqConstraint[c] in Hnew.edges()):\n",
    "                pass # This means a feasability constraint has been failed!\n",
    "            else:\n",
    "                G.add_node(i, value=Hnew)\n",
    "                G.add_edge(p,i, a=c, r=R(p,c))\n",
    "                G = recurGen(i, Hnew, G)\n",
    "            \n",
    "            i = G.number_of_nodes() + 1\n",
    "        return G\n",
    "    else:\n",
    "        return G\n",
    "\n",
    "# Checking Feasability\n",
    "def P(sN, s, a):\n",
    "    # Geometric Feasability\n",
    "    pass\n",
    "\n",
    "    # Sequential Constraints again\n",
    "\n",
    "\n",
    "def genRewards(assembled):\n",
    "    Rewards = {i: random.randint(0, 10) for i in list(assembled.H.edges())}\n",
    "    return Rewards\n",
    "\n",
    "def R(s, a):\n",
    "    return Rewards[s]"
   ]
  },
  {
   "cell_type": "markdown",
   "id": "ab6698d7",
   "metadata": {},
   "source": [
    "## Preliminary Code (Object Classes)"
   ]
  },
  {
   "cell_type": "code",
   "execution_count": 3,
   "id": "9b138767",
   "metadata": {},
   "outputs": [],
   "source": [
    "class part:\n",
    "    def __init__(self, number):\n",
    "        self.num = number\n",
    "        self.length = 1\n",
    "        self.width = 1\n",
    "        self.pos = []\n",
    "        self.vel = []\n",
    "    \n",
    "    def toJSON(self):\n",
    "        return json.dumps(self, default=lambda o: o.__dict__, sort_keys=True, indent=4)\n",
    "    def __str__(self):\n",
    "        return \"Part \" + str(self.num)\n",
    "    def __repr__(self):\n",
    "        return \"Part \" + str(self.num)"
   ]
  },
  {
   "cell_type": "markdown",
   "id": "e2b4822d",
   "metadata": {},
   "source": [
    "## Scenario Initialization"
   ]
  },
  {
   "cell_type": "code",
   "execution_count": 4,
   "id": "f7fb1a4b",
   "metadata": {},
   "outputs": [
    {
     "name": "stdout",
     "output_type": "stream",
     "text": [
      "CONFIGURATION: \n",
      "\t4 Parts,\n",
      "\t6 Connections in Assembly,\n",
      "\t1957 Potential Subassemblies, \n",
      "\t1956 Potential Edges, \n",
      "\t4 Sequential Constraints\n"
     ]
    }
   ],
   "source": [
    "# Initialize the inputs (will later read in from file [JSON])\n",
    "numAgents = 1\n",
    "numParts = 4\n",
    "numConnections = int(numParts*(numParts-1)/2)\n",
    "numActions = int(sum([math.factorial(numConnections)/math.factorial(i) for i in range(0, numConnections)]))\n",
    "numStates = numActions+1\n",
    "\n",
    "#SEQUENCING CONSTRAINTS (will later read in from file [JSON])\n",
    "# Of the format {connection touple: connection touple that must be remove first}\n",
    "\n",
    "# seqConstraint = {}\n",
    "seqConstraint = {(0, 2): (0, 1),\n",
    "                 (1, 3): (2, 3),\n",
    "                 (1, 2): (1, 3),\n",
    "                 (0, 1): (0, 2)}\n",
    "\n",
    "print(\"CONFIGURATION: \\n\\t%d Parts,\\n\\t%d Connections in Assembly,\\n\\t%d Potential Subassemblies, \\n\\t%d Potential Edges, \\n\\t%d Sequential Constraints\"\\\n",
    "     % (numParts, numConnections, numStates, numActions, len(seqConstraint)))"
   ]
  },
  {
   "cell_type": "code",
   "execution_count": 5,
   "id": "be918507",
   "metadata": {},
   "outputs": [
    {
     "name": "stdout",
     "output_type": "stream",
     "text": [
      "CONFIGURATION: \n",
      "\t3 Parts,\n",
      "\t3 Connections in Assembly,\n",
      "\t16 Subassemblies, \n",
      "\t15 Potential Edges, \n",
      "\t0 Sequential Constraints\n"
     ]
    }
   ],
   "source": [
    "# Initialize the inputs (will later read in from file [JSON])\n",
    "numAgents = 1\n",
    "numParts = 3\n",
    "numConnections = int(numParts*(numParts-1)/2)\n",
    "numActions = int(sum([float(math.factorial(numConnections))/float(math.factorial(i)) for i in range(0, numConnections)]))\n",
    "numStates = numActions+1\n",
    "\n",
    "#SEQUENCING CONSTRAINTS (will later read in from file [JSON])\n",
    "# Of the format {connection touple: connection touple that must be remove first}\n",
    "\n",
    "seqConstraint = {}\n",
    "# seqConstraint = {(0, 2): (0, 1),\n",
    "#                  (1, 3): (2, 3),\n",
    "#                  (1, 2): (1, 3),\n",
    "#                  (0, 1): (0, 2)}\n",
    "\n",
    "print(\"CONFIGURATION: \\n\\t%d Parts,\\n\\t%d Connections in Assembly,\\n\\t%d Subassemblies, \\n\\t%d Potential Edges, \\n\\t%d Sequential Constraints\"\\\n",
    "     % (numParts, numConnections, numStates, numActions, len(seqConstraint)))"
   ]
  },
  {
   "cell_type": "markdown",
   "id": "0691aa6f",
   "metadata": {},
   "source": [
    "## Running the Assembly Generation"
   ]
  },
  {
   "cell_type": "code",
   "execution_count": 6,
   "id": "3834a25a",
   "metadata": {},
   "outputs": [
    {
     "name": "stdout",
     "output_type": "stream",
     "text": [
      "Assembly Generation Time: 0.000354\n",
      "0.0003542900085449219\n",
      "[(0, 1), (0, 2), (1, 2)]\n",
      "DONE: 16 Nodes and 15 Edges\n"
     ]
    }
   ],
   "source": [
    "# Simple initial initialization (will later read in from file [JSON])\n",
    "Rewards = {i: random.randint(0, 10) for i in range(numStates)}\n",
    "\n",
    "H = nx.Graph()\n",
    "for i in range(numParts):\n",
    "    n = part(i)\n",
    "    H.add_node(i, value=n)\n",
    "    H.add_edges_from([(i,j) for j in range(numParts) if i != j])\n",
    "#Rewards = genRewards(assembled)\n",
    "\n",
    "# Generate the assembly tree\n",
    "start = time.time()\n",
    "G = nx.DiGraph()\n",
    "G.add_node(1, value=H)\n",
    "G = recurGen(1, H, G)\n",
    "end = time.time()\n",
    "print(\"Assembly Generation Time: %f\" % (end-start))\n",
    "print(end-start)\n",
    "\n",
    "\n",
    "print(list(H.edges()))\n",
    "print(\"DONE: %d Nodes and %d Edges\" % (G.number_of_nodes(), G.number_of_edges()))"
   ]
  },
  {
   "cell_type": "markdown",
   "id": "ba04eb42",
   "metadata": {},
   "source": [
    "## Value Iteration"
   ]
  },
  {
   "cell_type": "code",
   "execution_count": 7,
   "id": "fcc5b5e0",
   "metadata": {},
   "outputs": [
    {
     "name": "stdout",
     "output_type": "stream",
     "text": [
      "Value Iteration Time: 0.000146\n",
      "0.00014638900756835938\n"
     ]
    }
   ],
   "source": [
    "def ValueIteration(G, H, maxIter, eps):\n",
    "    S = range(1, G.number_of_nodes()+1)\n",
    "    A = list(H.edges())\n",
    "\n",
    "    V = {s: 0.0 for s in S}\n",
    "    Vnew = V.copy()\n",
    "    π = {s: (0, (0,0)) for s in S}\n",
    "    delta = max([abs(V[s] - Vnew[s]) for s in S])\n",
    "\n",
    "    c = 0\n",
    "    while(c <= maxIter):\n",
    "        delta = 0\n",
    "        for s in S:\n",
    "            nextStates = G[s]\n",
    "            for sN in nextStates.items():\n",
    "                newV = sN[1]['r'] + V[sN[0]]\n",
    "                if(newV > Vnew[s]):\n",
    "                    Vnew[s] = newV\n",
    "                    π[s] = (sN[0], sN[1]['a'])\n",
    "        delta = max([abs(V[s] - Vnew[s]) for s in S])\n",
    "        #print(c, delta)\n",
    "        if(delta < eps):\n",
    "            return Vnew, π\n",
    "        V = Vnew.copy()\n",
    "        c += 1\n",
    "    print(\"Done\")\n",
    "\n",
    "maxIter = 100000\n",
    "eps = 1e-6\n",
    "start = time.time()\n",
    "V, π = ValueIteration(G, H, maxIter, eps)\n",
    "end = time.time()\n",
    "print(\"Value Iteration Time: %f\" % (end-start))\n",
    "print(end-start)"
   ]
  },
  {
   "cell_type": "markdown",
   "id": "b145cf9a",
   "metadata": {},
   "source": [
    "# Graphing Suite"
   ]
  },
  {
   "cell_type": "code",
   "execution_count": 8,
   "id": "421f5ac5",
   "metadata": {},
   "outputs": [
    {
     "name": "stdout",
     "output_type": "stream",
     "text": [
      "[(1, 12), (12, 15), (15, 16)]\n",
      "DONE: 16 Nodes and 15 Edges\n"
     ]
    },
    {
     "data": {
      "image/png": "[encoded data removed]",
      "text/plain": [
       "<Figure size 640x480 with 1 Axes>"
      ]
     },
     "metadata": {},
     "output_type": "display_data"
    }
   ],
   "source": [
    "try:\n",
    "    pos = hierarchy_pos(G,1)\n",
    "except:\n",
    "    pos = nx.planar_layout(G)\n",
    "actions = nx.get_edge_attributes(G,'r')\n",
    "labels = nx.get_node_attributes(G,'r')\n",
    "nx.draw(G, pos, with_labels=True, font_color=\"#FFFFFF\")\n",
    "nx.draw_networkx_edge_labels(G, pos, edge_labels = actions)\n",
    "#nx.draw_networkx_labels(G, pos, labels)\n",
    "#nx.draw(G, with_labels=True, font_color=\"#FFFFFF\")\n",
    "\n",
    "\n",
    "try:\n",
    "    S = range(1, G.number_of_nodes()+1)\n",
    "    path = [1, π[1][0]]\n",
    "    path_edges = [(1, path[-1])]\n",
    "    while(True):\n",
    "        currState = path[-1]\n",
    "        nextState = π[currState][0]\n",
    "        if(nextState in S):\n",
    "            path.append(nextState)\n",
    "            path_edges.append((currState, nextState))\n",
    "        else:\n",
    "            break\n",
    "    print(path_edges)\n",
    "    nx.draw_networkx_nodes(G,pos,nodelist=path,node_color='r')\n",
    "    nx.draw_networkx_edges(G,pos,edgelist=path_edges,edge_color='r',width=1)\n",
    "except:\n",
    "    print(\"No Policy Found\")\n",
    "\n",
    "print(\"DONE: %d Nodes and %d Edges\" % (G.number_of_nodes(), G.number_of_edges()))"
   ]
  },
  {
   "cell_type": "code",
   "execution_count": 9,
   "id": "32c2f27a",
   "metadata": {
    "scrolled": true
   },
   "outputs": [
    {
     "data": {
      "image/png": "[encoded data removed]",
      "text/plain": [
       "<Figure size 640x480 with 1 Axes>"
      ]
     },
     "metadata": {},
     "output_type": "display_data"
    }
   ],
   "source": [
    "nx.draw(H, with_labels=True, font_color=\"#FFFFFF\")"
   ]
  },
  {
   "cell_type": "code",
   "execution_count": 10,
   "id": "59718eba",
   "metadata": {},
   "outputs": [
    {
     "name": "stdout",
     "output_type": "stream",
     "text": [
      "Local cdn resources have problems on chrome/safari when used in jupyter-notebook. \n",
      "Nope!\n"
     ]
    }
   ],
   "source": [
    "V = G.copy()\n",
    "try:\n",
    "    plotVis(V)\n",
    "except:\n",
    "    try:\n",
    "        plotVis(V)\n",
    "    except:\n",
    "        print(\"Nope!\")"
   ]
  },
  {
   "cell_type": "code",
   "execution_count": null,
   "id": "c58db6b5",
   "metadata": {},
   "outputs": [],
   "source": []
  }
 ],
 "metadata": {
  "kernelspec": {
   "display_name": "Python 3 (ipykernel)",
   "language": "python",
   "name": "python3"
  },
  "language_info": {
   "codemirror_mode": {
    "name": "ipython",
    "version": 3
   },
   "file_extension": ".py",
   "mimetype": "text/x-python",
   "name": "python",
   "nbconvert_exporter": "python",
   "pygments_lexer": "ipython3",
   "version": "3.10.6"
  }
 },
 "nbformat": 4,
 "nbformat_minor": 5
}
