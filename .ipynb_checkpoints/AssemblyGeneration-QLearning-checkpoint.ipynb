{
 "cells": [
  {
   "cell_type": "markdown",
   "id": "0f509e6f",
   "metadata": {},
   "source": [
    "# Assembly Tree Generation and Evaluation"
   ]
  },
  {
   "cell_type": "markdown",
   "id": "e2fd718d",
   "metadata": {},
   "source": [
    "## Formulation\n",
    " - State Space S = {Every Possible Subassembly}\n",
    " - Action Space A = {Every Connection that can currently be removed}\n",
    " - P(s'|s,a) = Feasability Checks\n",
    " - R(s,a) = Cost of removing a certain + the \n",
    " - Graph Assumption for modelling the \n",
    "\n",
    "## Notes\n",
    " - Next Steps:\n",
    "     - Randomly generate rewards and show pathing possible\n",
    "     - Rewards as a distance cost\n"
   ]
  },
  {
   "cell_type": "code",
   "execution_count": 1,
   "id": "18fe214c",
   "metadata": {},
   "outputs": [],
   "source": [
    "import sys, random, math, time\n",
    "import networkx as nx\n",
    "import matplotlib.pyplot as plt\n",
    "from pyvis.network import Network"
   ]
  },
  {
   "cell_type": "markdown",
   "id": "ab6698d7",
   "metadata": {},
   "source": [
    "## Preliminary Code (Object Classes)"
   ]
  },
  {
   "cell_type": "code",
   "execution_count": 2,
   "id": "9b138767",
   "metadata": {},
   "outputs": [],
   "source": [
    "class part:\n",
    "    def __init__(self, number):\n",
    "        self.num = number\n",
    "        self.length = 1\n",
    "        self.width = 1\n",
    "        self.pos = []\n",
    "        self.vel = []\n",
    "    \n",
    "    def toJSON(self):\n",
    "        return json.dumps(self, default=lambda o: o.__dict__, sort_keys=True, indent=4)\n",
    "    def __str__(self):\n",
    "        return \"Part \" + str(self.num)\n",
    "    def __repr__(self):\n",
    "        return \"Part \" + str(self.num)"
   ]
  },
  {
   "cell_type": "markdown",
   "id": "63b2aacf",
   "metadata": {},
   "source": [
    "# HELPER FUNCTIONS"
   ]
  },
  {
   "cell_type": "code",
   "execution_count": 3,
   "id": "501d1556",
   "metadata": {},
   "outputs": [],
   "source": [
    "def hierarchy_pos(G, root=None, width=20., vert_gap = 0.4, vert_loc = 0, xcenter = 0.5):  \n",
    "    # From Joel's answer at https://stackoverflow.com/a/29597209/2966723.  \n",
    "    def _hierarchy_pos(G, root, width=1., vert_gap = 0.2, vert_loc = 0, xcenter = 0.5, pos = None, parent = None):   \n",
    "        if pos is None:\n",
    "            pos = {root:(xcenter,vert_loc)}\n",
    "        else:\n",
    "            pos[root] = (xcenter, vert_loc)\n",
    "        children = list(G.neighbors(root))\n",
    "        if not isinstance(G, nx.DiGraph) and parent is not None:\n",
    "            children.remove(parent)  \n",
    "        if len(children)!=0:\n",
    "            dx = width/len(children) \n",
    "            nextx = xcenter - width/2 - dx/2\n",
    "            for child in children:\n",
    "                nextx += dx\n",
    "                pos = _hierarchy_pos(G,child, width = dx, vert_gap = vert_gap, \n",
    "                                    vert_loc = vert_loc-vert_gap, xcenter=nextx,\n",
    "                                    pos=pos, parent = root)\n",
    "        return pos          \n",
    "    return _hierarchy_pos(G, root, width, vert_gap, vert_loc, xcenter)\n",
    "\n",
    "\n",
    "# Generating Subassemblies in a recursive manner\n",
    "def recurGen(p, H, G):\n",
    "    currCon = list(H.edges())\n",
    "    if(len(currCon) > 0):\n",
    "        i = G.number_of_nodes() + 1\n",
    "        for c in currCon:\n",
    "            Hnew = H.copy()\n",
    "            Hnew.remove_edges_from([c])\n",
    "            if(c in seqConstraint.keys() and seqConstraint[c] in Hnew.edges()):\n",
    "                pass # This means a feasability constraint has been failed!\n",
    "            else:\n",
    "                idString = str(Hnew.edges())\n",
    "                nextState = next((x for x, y in nx.get_node_attributes(G,'idS').items() if y == idString), None)\n",
    "                if(nextState is not None):\n",
    "                    G.add_node(i, value=Hnew, idS=idString)\n",
    "                    G.add_edge(p,i, a=c, r=R(p,c))\n",
    "                    G.add_edge(i,nextState, a=c, r=R(p,c))\n",
    "                else:\n",
    "                    G.add_node(i, value=Hnew, idS=idString)\n",
    "                    G.add_edge(p,i, a=c, r=R(p,c))\n",
    "                    G = recurGen(i, Hnew, G)\n",
    "            i = G.number_of_nodes() + 1\n",
    "        return G\n",
    "    else:\n",
    "        return G\n",
    "    \n",
    "def nextGen(p, H, G):\n",
    "    currCon = list(H.edges())\n",
    "    if(len(currCon) > 0):\n",
    "        i = G.number_of_nodes() + 1\n",
    "        for c in currCon:\n",
    "            Hnew = H.copy()\n",
    "            Hnew.remove_edges_from([c])\n",
    "            if(c in seqConstraint.keys() and seqConstraint[c] in Hnew.edges()):\n",
    "                pass # This means a feasability constraint has been failed!\n",
    "            else:\n",
    "                idString = str(Hnew.edges())\n",
    "                nextState = next((x for x, y in nx.get_node_attributes(G,'idS').items() if y == idString), None)\n",
    "                if(nextState is not None):\n",
    "                    G.add_node(i, value=Hnew, idS=idString)\n",
    "                    G.add_edge(p,i, a=c, r=R(p,c))\n",
    "                    G.add_edge(i,nextState, a=c, r=R(p,c))\n",
    "                else:\n",
    "                    G.add_node(i, value=Hnew, idS=idString)\n",
    "                    G.add_edge(p,i, a=c, r=R(p,c))\n",
    "            i = G.number_of_nodes() + 1\n",
    "        return G\n",
    "    else:\n",
    "        return G\n",
    "    \n",
    "    \n",
    "# Checking Feasability\n",
    "def P(sN, s, a):\n",
    "    # Geometric Feasability\n",
    "    pass\n",
    "    # Sequential Constraints again\n",
    "\n",
    "\n",
    "def genRewards(assembled):\n",
    "    Rewards = {i: random.randint(0, 10) for i in list(assembled.H.edges())}\n",
    "    return Rewards\n",
    "\n",
    "def R(s, a):\n",
    "    if((s,a) not in Rewards.keys()):\n",
    "        Rewards[(s,a)] = (a[0]+a[1]) + random.randint(0, 4)\n",
    "    return Rewards[(s,a)]"
   ]
  },
  {
   "cell_type": "markdown",
   "id": "e2b4822d",
   "metadata": {},
   "source": [
    "## Scenario Initialization"
   ]
  },
  {
   "cell_type": "code",
   "execution_count": 4,
   "id": "be918507",
   "metadata": {},
   "outputs": [],
   "source": [
    "# Initialize the inputs (will later read in from file [JSON])\n",
    "numAgents = 1\n",
    "numParts = 5\n",
    "#numConnections = int(numParts*(numParts-1)/2)\n",
    "#numActions = int(sum([float(math.factorial(numConnections))/float(math.factorial(i)) for i in range(0, numConnections)]))\n",
    "#numStates = numActions+1\n",
    "\n",
    "#SEQUENCING CONSTRAINTS (will later read in from file [JSON])\n",
    "# Of the format {connection touple: connection touple that must be remove first}\n",
    "\n",
    "seqConstraint = {}\n",
    "# seqConstraint = {(0, 2): (0, 1),\n",
    "#                  (1, 3): (2, 3),\n",
    "#                  (1, 2): (1, 3),\n",
    "#                  (0, 1): (0, 2)}\n",
    "\n",
    "# print(\"CONFIGURATION: \\n\\t%d Parts,\\n\\t%d Connections in Assembly,\\n\\t%d Subassemblies, \\n\\t%d Potential Edges, \\n\\t%d Sequential Constraints\"\\\n",
    "#      % (numParts, numConnections, numStates, numActions, len(seqConstraint)))"
   ]
  },
  {
   "cell_type": "markdown",
   "id": "0691aa6f",
   "metadata": {},
   "source": [
    "## Running the Assembly Generation"
   ]
  },
  {
   "cell_type": "code",
   "execution_count": 24,
   "id": "3834a25a",
   "metadata": {},
   "outputs": [
    {
     "name": "stdout",
     "output_type": "stream",
     "text": [
      "Assembly Generation Time: 0.004655\n",
      "[(0, 1), (1, 2), (2, 3), (3, 4)]\n",
      "DONE: 33 Nodes and 49 Edges\n"
     ]
    }
   ],
   "source": [
    "# Simple initial initialization (will later read in from file [JSON])\n",
    "Rewards = {}\n",
    "\n",
    "H = nx.Graph()\n",
    "for i in range(numParts):\n",
    "    n = part(i)\n",
    "    H.add_node(i, value=n)\n",
    "    if(i > 0):\n",
    "        H.add_edge(i-1, i)\n",
    "    #H.add_edges_from([(i,j) for j in range(numParts) if i != j])\n",
    "\n",
    "# Generate the assembly tree\n",
    "start = time.time()\n",
    "G = nx.DiGraph()\n",
    "G.add_node(1, value=H, idS=str(H.edges()))\n",
    "G = recurGen(1, H, G)\n",
    "end = time.time()\n",
    "print(\"Assembly Generation Time: %f\" % (end-start))\n",
    "\n",
    "\n",
    "print(list(H.edges()))\n",
    "print(\"DONE: %d Nodes and %d Edges\" % (G.number_of_nodes(), G.number_of_edges()))"
   ]
  },
  {
   "cell_type": "markdown",
   "id": "2554e9d1",
   "metadata": {},
   "source": [
    "## RRT"
   ]
  },
  {
   "attachments": {
    "image.png": {
     "image/png": "[encoded data removed]"
    }
   },
   "cell_type": "markdown",
   "id": "ee4e2a1c",
   "metadata": {},
   "source": [
    "![image.png](attachment:image.png)"
   ]
  },
  {
   "cell_type": "code",
   "execution_count": 6,
   "id": "2da8b87f",
   "metadata": {},
   "outputs": [],
   "source": [
    "maxIter = 1\n",
    "c = 0\n",
    "G = nx.DiGraph()\n",
    "\n",
    "while c < maxIter:\n",
    "    currPos = H\n",
    "    distToGoal = H.number_of_edges()\n",
    "    G.add_node(1, value=H, idS=str(H.edges()))\n",
    "    c+=1\n"
   ]
  },
  {
   "cell_type": "markdown",
   "id": "b7a71664",
   "metadata": {},
   "source": [
    "## Q-Learning"
   ]
  },
  {
   "cell_type": "code",
   "execution_count": 31,
   "id": "0e993574",
   "metadata": {},
   "outputs": [
    {
     "name": "stdout",
     "output_type": "stream",
     "text": [
      "Graph with 5 nodes and 2 edges\n",
      "DiGraph with 3 nodes and 2 edges\n",
      "{(1, 2): 2, (1, 3): 8}\n"
     ]
    },
    {
     "data": {
      "image/png": "[encoded data removed]",
      "text/plain": [
       "<Figure size 640x480 with 1 Axes>"
      ]
     },
     "metadata": {},
     "output_type": "display_data"
    }
   ],
   "source": [
    "maxIter = 1\n",
    "c = 0\n",
    "G = nx.DiGraph()\n",
    "Q = {}\n",
    "ϵ = 0.3\n",
    "γ = 1\n",
    "\n",
    "\n",
    "while c < maxIter:\n",
    "    # Get random state\n",
    "    currPos = H.copy()\n",
    "    numCuts = random.randint(0, currPos.number_of_edges()-1)\n",
    "    edges = list(currPos.edges())\n",
    "    for i in range(numCuts):\n",
    "        rc = edges.pop(random.randint(0, len(edges)-1))\n",
    "        currPos.remove_edges_from([rc])\n",
    "    print(currPos)\n",
    "    nx.draw(currPos, with_labels=True, font_color=\"#FFFFFF\")\n",
    "    \n",
    "    # Get random action\n",
    "    nextPos = currPos.copy()\n",
    "    A = random.randint(0, currPos.number_of_edges())\n",
    "    nextPos.remove_edges_from([A])\n",
    "    \n",
    "    # Find \"sN\"s\n",
    "    G.add_node(1, value=nextPos, idS=str(nextPos.edges()))\n",
    "    nearest = nextGen(1, nextPos, G)\n",
    "    print(nearest)\n",
    "    \n",
    "    # Pick best and go\n",
    "    actions = nx.get_edge_attributes(nearest,'r')\n",
    "    maxA = random.choice([k for k in actions.keys() if actions[k] == max(actions.values())])\n",
    "    print(actions)\n",
    "    s = currPos.copy()\n",
    "    sN = currPos.remove_edges_from([maxA])\n",
    "    \n",
    "    if((s,maxA) in Q.keys()):\n",
    "        Qp = [0]\n",
    "        for e in list(sN.edges()):\n",
    "            if((sN,e) in Q.keys()):\n",
    "                Qp.append(Q[sN,e])\n",
    "        Q[(s,maxA)] = Q[(s,maxA)] + ϵ*(actions[maxA] + γ*max(Qp) - Q[(s,maxA)])\n",
    "    else:\n",
    "        Q[(s,maxA)] = actions[maxA]\n",
    "        \n",
    "    c += 1"
   ]
  },
  {
   "cell_type": "code",
   "execution_count": 34,
   "id": "df41bbf8",
   "metadata": {},
   "outputs": [
    {
     "name": "stdout",
     "output_type": "stream",
     "text": [
      "Using cpu device\n",
      "QNet(\n",
      "  (conv1): Conv2d(2, 1, kernel_size=(1, 1), stride=(1, 1))\n",
      "  (conv2): Conv2d(6, 16, kernel_size=(5, 5), stride=(1, 1))\n",
      "  (fc1): Linear(in_features=400, out_features=120, bias=True)\n",
      "  (fc2): Linear(in_features=120, out_features=84, bias=True)\n",
      "  (fc3): Linear(in_features=84, out_features=10, bias=True)\n",
      ")\n"
     ]
    }
   ],
   "source": [
    "import torch\n",
    "import torch.nn as nn\n",
    "import torch.nn.functional as F\n",
    "\n",
    "device = \"cuda\" if torch.cuda.is_available() else \"cpu\"\n",
    "print(f\"Using {device} device\")\n",
    "\n",
    "\n",
    "class QNet(nn.Module):\n",
    "    def __init__(self):\n",
    "        super(QNet, self).__init__()\n",
    "        # 2 input channels, 1 output channels\n",
    "        # kernel\n",
    "        self.flatten = nn.Flatten()\n",
    "        self.conv1 = nn.Conv2d(2, 1, 1)\n",
    "        self.conv2 = nn.Conv2d(6, 16, 5)\n",
    "        # an affine operation: y = Wx + b\n",
    "        self.fc1 = nn.Linear(16 * 5 * 5, 120)  # 5*5 from image dimension\n",
    "        self.fc2 = nn.Linear(120, 84)\n",
    "        self.fc3 = nn.Linear(84, 10)\n",
    "\n",
    "    def forward(self, x):\n",
    "        # Max pooling over a (2, 2) window\n",
    "        x = F.max_pool2d(F.relu(self.conv1(x)), (2, 2))\n",
    "        # If the size is a square, you can specify with a single number\n",
    "        x = F.max_pool2d(F.relu(self.conv2(x)), 2)\n",
    "        x = torch.flatten(x, 1) # flatten all dimensions except the batch dimension\n",
    "        x = F.relu(self.fc1(x))\n",
    "        x = F.relu(self.fc2(x))\n",
    "        x = self.fc3(x)\n",
    "        return x\n",
    "\n",
    "\n",
    "net = QNet()\n",
    "print(net)\n"
   ]
  },
  {
   "cell_type": "markdown",
   "id": "ba04eb42",
   "metadata": {},
   "source": [
    "## Value Iteration"
   ]
  },
  {
   "cell_type": "code",
   "execution_count": null,
   "id": "fcc5b5e0",
   "metadata": {
    "scrolled": true
   },
   "outputs": [],
   "source": [
    "def ValueIteration(G, H, maxIter, eps):\n",
    "    S = range(1, G.number_of_nodes()+1)\n",
    "    A = list(H.edges())\n",
    "\n",
    "    V = {s: 0.0 for s in S}\n",
    "    Vnew = V.copy()\n",
    "    π = {s: (0, (0,0)) for s in S}\n",
    "    delta = max([abs(V[s] - Vnew[s]) for s in S])\n",
    "\n",
    "    c = 0\n",
    "    while(c <= maxIter):\n",
    "        delta = 0\n",
    "        for s in S:\n",
    "            nextStates = G[s]\n",
    "            for sN in nextStates.items():\n",
    "                newV = sN[1]['r'] + V[sN[0]]\n",
    "                if(newV > Vnew[s]):\n",
    "                    Vnew[s] = newV\n",
    "                    π[s] = (sN[0], sN[1]['a'])\n",
    "        delta = max([abs(V[s] - Vnew[s]) for s in S])\n",
    "        if(delta < eps):\n",
    "            print(\"Converged!\")\n",
    "            return Vnew, π\n",
    "        V = Vnew.copy()\n",
    "        c += 1\n",
    "    print(\"Done\")\n",
    "\n",
    "maxIter = 100000\n",
    "eps = 1e-6\n",
    "start = time.time()\n",
    "V, π = ValueIteration(G, H, maxIter, eps)\n",
    "end = time.time()\n",
    "print(\"Value Iteration Time: %f\" % (end-start))"
   ]
  },
  {
   "cell_type": "markdown",
   "id": "b145cf9a",
   "metadata": {},
   "source": [
    "# Graphing Suite"
   ]
  },
  {
   "cell_type": "code",
   "execution_count": null,
   "id": "421f5ac5",
   "metadata": {},
   "outputs": [],
   "source": [
    "try:\n",
    "    pos = hierarchy_pos(G,1)\n",
    "except:\n",
    "    pos = nx.planar_layout(G)\n",
    "actions = nx.get_edge_attributes(G,'r')\n",
    "labels = nx.get_node_attributes(G,'r')\n",
    "nx.draw(G, pos, with_labels=True, font_color=\"#FFFFFF\")\n",
    "nx.draw_networkx_edge_labels(G, pos, edge_labels = actions)\n",
    "\n",
    "\n",
    "try:\n",
    "    S = range(1, G.number_of_nodes()+1)\n",
    "    path = [1, π[1][0]]\n",
    "    path_edges = [(1, path[-1])]\n",
    "    while(True):\n",
    "        currState = path[-1]\n",
    "        nextState = π[currState][0]\n",
    "        if(nextState in S):\n",
    "            path.append(nextState)\n",
    "            path_edges.append((currState, nextState))\n",
    "        else:\n",
    "            break\n",
    "    print(path_edges)\n",
    "    nx.draw_networkx_nodes(G,pos,nodelist=path,node_color='r')\n",
    "    nx.draw_networkx_edges(G,pos,edgelist=path_edges,edge_color='r',width=1)\n",
    "except:\n",
    "    print(\"No Policy Found\")\n",
    "\n",
    "print(\"DONE: %d Nodes and %d Edges\" % (G.number_of_nodes(), G.number_of_edges()))"
   ]
  },
  {
   "cell_type": "code",
   "execution_count": null,
   "id": "32c2f27a",
   "metadata": {
    "scrolled": false
   },
   "outputs": [],
   "source": [
    "nx.draw(H, with_labels=True, font_color=\"#FFFFFF\")"
   ]
  },
  {
   "cell_type": "code",
   "execution_count": null,
   "id": "c58db6b5",
   "metadata": {},
   "outputs": [],
   "source": [
    "V = G.copy()\n",
    "try:\n",
    "    plotVis(V)\n",
    "except:\n",
    "    try:\n",
    "        plotVis(V)\n",
    "    except:\n",
    "        print(\"Nope!\")"
   ]
  }
 ],
 "metadata": {
  "kernelspec": {
   "display_name": "Python 3 (ipykernel)",
   "language": "python",
   "name": "python3"
  },
  "language_info": {
   "codemirror_mode": {
    "name": "ipython",
    "version": 3
   },
   "file_extension": ".py",
   "mimetype": "text/x-python",
   "name": "python",
   "nbconvert_exporter": "python",
   "pygments_lexer": "ipython3",
   "version": "3.10.6"
  }
 },
 "nbformat": 4,
 "nbformat_minor": 5
}
