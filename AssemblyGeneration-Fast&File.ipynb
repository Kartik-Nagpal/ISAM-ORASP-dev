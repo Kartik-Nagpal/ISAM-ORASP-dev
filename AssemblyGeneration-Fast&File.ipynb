{
 "cells": [
  {
   "cell_type": "markdown",
   "id": "0f509e6f",
   "metadata": {},
   "source": [
    "# Assembly Tree Generation and Evaluation"
   ]
  },
  {
   "cell_type": "markdown",
   "id": "e2fd718d",
   "metadata": {},
   "source": [
    "## Formulation\n",
    " - State Space S = {Every Possible Subassembly}\n",
    " - Action Space A = {Every Connection that can currently be removed}\n",
    " - P(s'|s,a) = Feasability Checks\n",
    " - R(s,a) = Cost of removing a certain + the \n",
    " - Graph Assumption for modelling the \n",
    "\n",
    "## Notes\n",
    " - Next Steps:\n",
    "     - Randomly generate rewards and show pathing possible\n",
    "     - Rewards as a distance cost\n"
   ]
  },
  {
   "cell_type": "code",
   "execution_count": 1,
   "id": "18fe214c",
   "metadata": {},
   "outputs": [],
   "source": [
    "import sys, random, math, time\n",
    "import networkx as nx\n",
    "import matplotlib.pyplot as plt\n",
    "from pyvis.network import Network"
   ]
  },
  {
   "cell_type": "markdown",
   "id": "ab6698d7",
   "metadata": {},
   "source": [
    "## Preliminary Code (Object Classes)"
   ]
  },
  {
   "cell_type": "code",
   "execution_count": 2,
   "id": "9b138767",
   "metadata": {},
   "outputs": [],
   "source": [
    "class part:\n",
    "    def __init__(self, number):\n",
    "        self.num = number\n",
    "        self.length = 1\n",
    "        self.width = 1\n",
    "        self.pos = []\n",
    "        self.vel = []\n",
    "    \n",
    "    def toJSON(self):\n",
    "        return json.dumps(self, default=lambda o: o.__dict__, sort_keys=True, indent=4)\n",
    "    def __str__(self):\n",
    "        return \"Part \" + str(self.num)\n",
    "    def __repr__(self):\n",
    "        return \"Part \" + str(self.num)"
   ]
  },
  {
   "cell_type": "markdown",
   "id": "63b2aacf",
   "metadata": {},
   "source": [
    "# HELPER FUNCTIONS"
   ]
  },
  {
   "cell_type": "code",
   "execution_count": 3,
   "id": "501d1556",
   "metadata": {},
   "outputs": [],
   "source": [
    "def hierarchy_pos(G, root=None, width=20., vert_gap = 0.4, vert_loc = 0, xcenter = 0.5):  \n",
    "    # From Joel's answer at https://stackoverflow.com/a/29597209/2966723.  \n",
    "    def _hierarchy_pos(G, root, width=1., vert_gap = 0.2, vert_loc = 0, xcenter = 0.5, pos = None, parent = None):   \n",
    "        if pos is None:\n",
    "            pos = {root:(xcenter,vert_loc)}\n",
    "        else:\n",
    "            pos[root] = (xcenter, vert_loc)\n",
    "        children = list(G.neighbors(root))\n",
    "        if not isinstance(G, nx.DiGraph) and parent is not None:\n",
    "            children.remove(parent)  \n",
    "        if len(children)!=0:\n",
    "            dx = width/len(children) \n",
    "            nextx = xcenter - width/2 - dx/2\n",
    "            for child in children:\n",
    "                nextx += dx\n",
    "                pos = _hierarchy_pos(G,child, width = dx, vert_gap = vert_gap, \n",
    "                                    vert_loc = vert_loc-vert_gap, xcenter=nextx,\n",
    "                                    pos=pos, parent = root)\n",
    "        return pos          \n",
    "    return _hierarchy_pos(G, root, width, vert_gap, vert_loc, xcenter)\n",
    "\n",
    "\n",
    "# Generating Subassemblies in a recursive manner\n",
    "def recurGen(p, H, G):\n",
    "    currCon = list(H.edges())\n",
    "    if(len(currCon) > 0):\n",
    "        i = G.number_of_nodes() + 1\n",
    "        for c in currCon:\n",
    "            Hnew = H.copy()\n",
    "            Hnew.remove_edges_from([c])\n",
    "            if(c in seqConstraint.keys() and seqConstraint[c] in Hnew.edges()):\n",
    "                pass # This means a feasability constraint has been failed!\n",
    "            else:\n",
    "                idString = str(Hnew.edges())\n",
    "                nextState = next((x for x, y in nx.get_node_attributes(G,'idS').items() if y == idString), None)\n",
    "                if(nextState is not None):\n",
    "                    Rew, Hnew = R(p,c,H)\n",
    "                    G.add_edge(p,nextState, a=c, r=Rew)\n",
    "                else:\n",
    "                    G.add_node(i, idS=idString)\n",
    "                    Rew, Hnew = R(p,c,H)\n",
    "                    G.add_edge(p,i, a=c, r=Rew)\n",
    "                    G = recurGen(i, Hnew, G)\n",
    "            i = G.number_of_nodes() + 1\n",
    "        return G\n",
    "    else:\n",
    "        return G\n",
    "    \n",
    "    \n",
    "# Checking Feasability\n",
    "def P(sN, s, a):\n",
    "    # Geometric Feasability\n",
    "    pass\n",
    "    # Sequential Constraints again\n",
    "\n",
    "\n",
    "def Rcaz(s,a,H): # Reward Function Assuming there is a CAZ (newest numbers)\n",
    "    Rewards[(s,a)] = 0\n",
    "    \n",
    "    APieces = list(nx.connected_components(H))\n",
    "    Hnew = H.copy()\n",
    "    Hnew.remove_edges_from([a])\n",
    "    BPieces = list(nx.connected_components(Hnew))\n",
    "    if(Hnew.number_of_edges() == 0): # Check if fully deconstructed\n",
    "        Rewards[(s,a)] = 1\n",
    "    elif(len(BPieces) - len(APieces) > 0):\n",
    "        diffPieces = [list(i) for i in BPieces if i not in APieces and len(i) <= 3]\n",
    "        # Check if removing last connection for a given part\n",
    "        for i in diffPieces:\n",
    "            # Check if creating multiple assemblies and sizes of these new assemblies\n",
    "            if(len(i) == 1):\n",
    "                if(Hnew.nodes[i[0]][\"loc\"] == \"CL\"): # Going from CL to SV\n",
    "                    Hnew.nodes[i[0]][\"loc\"] = \"SV\"\n",
    "                    Rewards[(s,a)] += -(0.0468 + 0.0499) #SV-CL + CL-SV\n",
    "                else: # Going from CAZ to SV\n",
    "                    Hnew.nodes[i[0]][\"loc\"] = \"SV\"\n",
    "                    Rewards[(s,a)] += -(0.0403 + 0.0420) #SV-CAZ + CAZ-SV\n",
    "\n",
    "            elif(len(i) == 2): # Have to fix last bit problem\n",
    "                for p in i:\n",
    "                    if(Hnew.nodes[p][\"loc\"] == \"CL\"): # Going from CL to CAZ\n",
    "                        Hnew.nodes[p][\"loc\"] = \"CAZ\"\n",
    "                Rewards[(s,a)] += -(0.0307 + 0.0415) #SV-CL + CL-CAZ2\n",
    "\n",
    "            elif(len(i) == 3): # Have to fix last problem\n",
    "                for p in i:\n",
    "                    if(Hnew.nodes[p][\"loc\"] == \"CL\"): # Going from CL to CAZ\n",
    "                        Hnew.nodes[p][\"loc\"] = \"CAZ\"\n",
    "                Rewards[(s,a)] += -(0.0307 + 0.0475) #SV-CL + CL-CAZ3\n",
    "    return Rewards[(s,a)], Hnew\n",
    "\n",
    "\n",
    "def RNOcaz(s,a,H): # Reward Function Assuming there is NO CAZ (constructed at SV)\n",
    "    Rewards[(s,a)] = 0\n",
    "    \n",
    "    APieces = list(nx.connected_components(H))\n",
    "    Hnew = H.copy()\n",
    "    Hnew.remove_edges_from([a])\n",
    "    BPieces = list(nx.connected_components(Hnew))\n",
    "    if(Hnew.number_of_edges() == 0): # Check if fully deconstructed\n",
    "        Rewards[(s,a)] = 1\n",
    "    elif(len(BPieces) - len(APieces) > 0):\n",
    "        diffPieces = [list(i) for i in BPieces if i not in APieces and len(i) <= 3]\n",
    "        # Check if removing last connection for a given part\n",
    "        for i in diffPieces:\n",
    "            # Check if creating multiple assemblies and sizes of these new assemblies\n",
    "            if(len(i) == 1):\n",
    "#                 if(Hnew.nodes[i[0]][\"loc\"] == \"CL\"): # Going from CL to SV\n",
    "#                     Hnew.nodes[i[0]][\"loc\"] = \"SV\"\n",
    "                Rewards[(s,a)] += -(0.0468 + 0.0499) #SV-CL + CL-SV\n",
    "\n",
    "            elif(len(i) == 2): # Have to fix last bit problem\n",
    "#                 for p in i:\n",
    "#                     if(Hnew.nodes[p][\"loc\"] == \"CL\"): # Going from CL to CAZ\n",
    "#                         Hnew.nodes[p][\"loc\"] = \"SV\"\n",
    "                Rewards[(s,a)] += -(0.0749 + 0.0499) #SV-CL + CL-SV2\n",
    "\n",
    "            elif(len(i) == 3): # Have to fix last problem\n",
    "#                 for p in i:\n",
    "#                     if(Hnew.nodes[p][\"loc\"] == \"CL\"): # Going from CL to CAZ\n",
    "#                         Hnew.nodes[p][\"loc\"] = \"SV\"\n",
    "                Rewards[(s,a)] += -(0.0869 + 0.0499) #SV-CL + CL-SV3\n",
    "    return Rewards[(s,a)], Hnew\n",
    "\n",
    "def R(s, a, H):\n",
    "    if((s,a) not in Rewards.keys()):\n",
    "        Rewards[(s,a)], Hnew = Rcaz(s,a,H)\n",
    "    return Rewards[(s,a)], Hnew\n",
    "\n",
    "\n",
    "\n",
    "\n",
    "\n",
    "\n",
    "\n",
    "# def Rold(s, a, H):\n",
    "#     if((s,a) not in Rewards.keys()):\n",
    "#         Rewards[(s,a)] = 0\n",
    "        \n",
    "#         APieces = list(nx.connected_components(H))\n",
    "#         Hnew = H.copy()\n",
    "#         Hnew.remove_edges_from([a])\n",
    "#         BPieces = list(nx.connected_components(Hnew))\n",
    "#         if(Hnew.number_of_edges() == 0): # Check if fully deconstructed\n",
    "#             Rewards[(s,a)] = 1\n",
    "#         elif(len(BPieces) - len(APieces) > 0):\n",
    "#             diffPieces = [list(i) for i in BPieces if i not in APieces and len(i) <= 3]\n",
    "#             # Check if removing last connection for a given part\n",
    "#             for i in diffPieces:\n",
    "#                 # Check if creating multiple assemblies and sizes of these new assemblies\n",
    "#                 if(len(i) == 1):\n",
    "#                     if(Hnew.nodes[i[0]][\"loc\"] == \"CL\"): # Going from CL to SV\n",
    "#                         Hnew.nodes[i[0]][\"loc\"] = \"SV\"\n",
    "#                         Rewards[(s,a)] += -(0.0522 + 0.0399) #SV-CL + CL-SV\n",
    "#                     else: # Going from CAZ to SV\n",
    "#                         Hnew.nodes[i[0]][\"loc\"] = \"SV\"\n",
    "#                         Rewards[(s,a)] += -(0.0403 + 0.0420) #SV-CAZ + CAZ-SV\n",
    "                \n",
    "#                 if(len(i) == 2):\n",
    "#                     for p in i:\n",
    "#                         if(Hnew.nodes[p][\"loc\"] == \"CL\"): # Going from CL to CAZ\n",
    "#                             Hnew.nodes[p][\"loc\"] = \"CAZ\"\n",
    "#                             Rewards[(s,a)] += -(0.0501 + 0.0519) #SV-CL + CL-CAZ2\n",
    "                    \n",
    "#                 if(len(i) == 3):\n",
    "#                     for p in i:\n",
    "#                         if(Hnew.nodes[p][\"loc\"] == \"CL\"): # Going from CL to CAZ\n",
    "#                             Hnew.nodes[p][\"loc\"] = \"CAZ\"\n",
    "#                             Rewards[(s,a)] += -(0.0501 + 0.0832) #SV-CL + CL-CAZ3\n",
    "#     return Rewards[(s,a)], Hnew"
   ]
  },
  {
   "cell_type": "markdown",
   "id": "e2b4822d",
   "metadata": {},
   "source": [
    "## Scenario Initialization"
   ]
  },
  {
   "cell_type": "code",
   "execution_count": 4,
   "id": "be918507",
   "metadata": {},
   "outputs": [
    {
     "name": "stdout",
     "output_type": "stream",
     "text": [
      "CONFIGURATION: \n",
      "\t3 Parts,\n",
      "\t3 Connections in Assembly,\n",
      "\t16 Subassemblies, \n",
      "\t15 Potential Edges, \n",
      "\t0 Sequential Constraints\n"
     ]
    }
   ],
   "source": [
    "# Initialize the inputs (will later read in from file [JSON])\n",
    "\n",
    "#define topology \n",
    "H = nx.Graph()\n",
    "H.add_edge(1,2)\n",
    "H.add_edge(2,3)\n",
    "H.add_edge(3,1)\n",
    "\n",
    "nx.set_node_attributes(H, \"CL\", \"loc\")\n",
    "\n",
    "numParts = H.number_of_nodes()\n",
    "numConnections = H.number_of_edges()\n",
    "numActions = int(sum([float(math.factorial(numConnections))/float(math.factorial(i)) for i in range(0, numConnections)]))\n",
    "numStates = numActions+1\n",
    "\n",
    "#SEQUENCING CONSTRAINTS (will later read in from file [JSON])\n",
    "# Of the format {connection touple: connection touple that must be remove first}\n",
    "seqConstraint = {}\n",
    "\n",
    "print(\"CONFIGURATION: \\n\\t%d Parts,\\n\\t%d Connections in Assembly,\\n\\t%d Subassemblies, \\n\\t%d Potential Edges, \\n\\t%d Sequential Constraints\"\\\n",
    "      % (numParts, numConnections, numStates, numActions, len(seqConstraint)))"
   ]
  },
  {
   "cell_type": "markdown",
   "id": "0691aa6f",
   "metadata": {},
   "source": [
    "## Running the Assembly Generation"
   ]
  },
  {
   "cell_type": "code",
   "execution_count": 5,
   "id": "3834a25a",
   "metadata": {},
   "outputs": [
    {
     "name": "stdout",
     "output_type": "stream",
     "text": [
      "Assembly Generation Time: 0.001147\n",
      "[(1, 2), (1, 3), (2, 3)]\n",
      "DONE: 8 Nodes and 12 Edges\n"
     ]
    }
   ],
   "source": [
    "# Simple initial initialization (will later read in from file [JSON])\n",
    "Rewards = {}\n",
    "\n",
    "# Generate the assembly tree\n",
    "start = time.time()\n",
    "G = nx.DiGraph()\n",
    "G.add_node(1, idS=str(H.edges()))\n",
    "G = recurGen(1, H, G)\n",
    "end = time.time()\n",
    "print(\"Assembly Generation Time: %f\" % (end-start))\n",
    "\n",
    "\n",
    "print(list(H.edges()))\n",
    "print(\"DONE: %d Nodes and %d Edges\" % (G.number_of_nodes(), G.number_of_edges()))"
   ]
  },
  {
   "cell_type": "markdown",
   "id": "ba04eb42",
   "metadata": {},
   "source": [
    "## Value Iteration"
   ]
  },
  {
   "cell_type": "code",
   "execution_count": 6,
   "id": "fcc5b5e0",
   "metadata": {
    "scrolled": true
   },
   "outputs": [
    {
     "name": "stdout",
     "output_type": "stream",
     "text": [
      "Converged!\n",
      "Value Iteration Time: 0.000197\n",
      "(3, (1, 3))\n",
      "(0, (0, 0))\n",
      "[(1, 2), (2, 3)]\n",
      "[(1, 2), (1, 3), (0, 0)]\n"
     ]
    }
   ],
   "source": [
    "def ValueIteration(G, H, maxIter, eps):\n",
    "    S = range(1, G.number_of_nodes()+1)\n",
    "    A = list(H.edges())\n",
    "\n",
    "    V = {s: 2 for s in S}\n",
    "    Vnew = V.copy()\n",
    "    π = {s: (0, (0,0)) for s in S}\n",
    "    delta = max([abs(V[s] - Vnew[s]) for s in S])\n",
    "\n",
    "    c = 0\n",
    "    while(c <= maxIter):\n",
    "        delta = 0\n",
    "        for s in S:\n",
    "            nextStates = G[s]\n",
    "            for sN in nextStates.items():\n",
    "                newV = sN[1]['r'] + V[sN[0]]\n",
    "                if(newV < Vnew[s]):\n",
    "                    Vnew[s] = newV\n",
    "                    π[s] = (sN[0], sN[1]['a'])\n",
    "        delta = max([abs(V[s] - Vnew[s]) for s in S])\n",
    "        if(delta < eps):\n",
    "            print(\"Converged!\")\n",
    "            return Vnew, π\n",
    "        V = Vnew.copy()\n",
    "        c += 1\n",
    "    print(\"Done\")\n",
    "\n",
    "maxIter = 100000\n",
    "eps = 1e-8\n",
    "start = time.time()\n",
    "V, π = ValueIteration(G, H, maxIter, eps)\n",
    "end = time.time()\n",
    "print(\"Value Iteration Time: %f\" % (end-start))\n",
    "\n",
    "try:\n",
    "    S = range(1, G.number_of_nodes()+1)\n",
    "    path = [1, π[1][0]]\n",
    "    path_edges = [(1, path[-1])]\n",
    "    dissassemblyStrat = [π[path[0]][1], π[path[-1]][1]]\n",
    "    while(True):\n",
    "        currState = path[-1]\n",
    "        print(π[currState])\n",
    "        nextState = π[currState][0]\n",
    "        if(nextState in S):\n",
    "            path.append(nextState)\n",
    "            path_edges.append((currState, nextState))\n",
    "            dissassemblyStrat.append(π[nextState][1])\n",
    "        else:\n",
    "            break\n",
    "    print(path_edges)\n",
    "    print(dissassemblyStrat)\n",
    "except:\n",
    "    print(\"No Policy Found\")"
   ]
  },
  {
   "cell_type": "code",
   "execution_count": 7,
   "id": "12a5c0e9",
   "metadata": {},
   "outputs": [
    {
     "name": "stdout",
     "output_type": "stream",
     "text": [
      "Dijkstra Path Time: 0.000074\n",
      "[1, 2, 3, 4]\n",
      "1 {'idS': '[(1, 2), (1, 3), (2, 3)]'}\n",
      "2 {'idS': '[(1, 3), (2, 3)]'}\n",
      "3 {'idS': '[(2, 3)]'}\n",
      "4 {'idS': '[]'}\n",
      "Connection Removal: [(1, 2), (1, 3), (2, 3)]\n"
     ]
    }
   ],
   "source": [
    "costs = nx.get_edge_attributes(G,'r')\n",
    "e = [(i[0], i[1], -costs[i]) for i in costs.keys()]\n",
    "G.add_weighted_edges_from(e)\n",
    "\n",
    "start = time.time()\n",
    "path = nx.dijkstra_path(G, 1, H.number_of_edges()+1)\n",
    "end = time.time()\n",
    "print(\"Dijkstra Path Time: %f\" % (end-start))\n",
    "\n",
    "print(path)\n",
    "\n",
    "last = None\n",
    "disStrat = []\n",
    "for i in path:\n",
    "    if(last is not None):\n",
    "        disStrat.append(G.edges[last, i]['a'])\n",
    "    print(i, G.nodes()[i])\n",
    "    last = i\n",
    "    \n",
    "print(\"Connection Removal:\", disStrat)\n",
    "\n",
    "Ha = H.copy()\n",
    "pos = nx.spring_layout(Ha)"
   ]
  },
  {
   "cell_type": "markdown",
   "id": "b145cf9a",
   "metadata": {},
   "source": [
    "# Graphing Suite"
   ]
  },
  {
   "cell_type": "code",
   "execution_count": 8,
   "id": "32c2f27a",
   "metadata": {
    "scrolled": false
   },
   "outputs": [
    {
     "ename": "FileNotFoundError",
     "evalue": "[Errno 2] No such file or directory: './2x3/0.png'",
     "output_type": "error",
     "traceback": [
      "\u001b[0;31m---------------------------------------------------------------------------\u001b[0m",
      "\u001b[0;31mFileNotFoundError\u001b[0m                         Traceback (most recent call last)",
      "Cell \u001b[0;32mIn [8], line 2\u001b[0m\n\u001b[1;32m      1\u001b[0m nx\u001b[38;5;241m.\u001b[39mdraw(H, pos, with_labels\u001b[38;5;241m=\u001b[39m\u001b[38;5;28;01mTrue\u001b[39;00m, font_color\u001b[38;5;241m=\u001b[39m\u001b[38;5;124m\"\u001b[39m\u001b[38;5;124m#FFFFFF\u001b[39m\u001b[38;5;124m\"\u001b[39m)\n\u001b[0;32m----> 2\u001b[0m \u001b[43mplt\u001b[49m\u001b[38;5;241;43m.\u001b[39;49m\u001b[43msavefig\u001b[49m\u001b[43m(\u001b[49m\u001b[38;5;124;43m'\u001b[39;49m\u001b[38;5;124;43m./2x3/\u001b[39;49m\u001b[38;5;124;43m'\u001b[39;49m\u001b[38;5;241;43m+\u001b[39;49m\u001b[38;5;28;43mstr\u001b[39;49m\u001b[43m(\u001b[49m\u001b[38;5;241;43m0\u001b[39;49m\u001b[43m)\u001b[49m\u001b[38;5;241;43m+\u001b[39;49m\u001b[38;5;124;43m'\u001b[39;49m\u001b[38;5;124;43m.png\u001b[39;49m\u001b[38;5;124;43m'\u001b[39;49m\u001b[43m)\u001b[49m\n\u001b[1;32m      3\u001b[0m dissassemblyStrat[\u001b[38;5;241m-\u001b[39m\u001b[38;5;241m1\u001b[39m] \u001b[38;5;241m=\u001b[39m (\u001b[38;5;241m4\u001b[39m,\u001b[38;5;241m5\u001b[39m)\n\u001b[1;32m      4\u001b[0m strat \u001b[38;5;241m=\u001b[39m dissassemblyStrat\n",
      "File \u001b[0;32m~/anaconda3/envs/isat/lib/python3.10/site-packages/matplotlib/pyplot.py:954\u001b[0m, in \u001b[0;36msavefig\u001b[0;34m(*args, **kwargs)\u001b[0m\n\u001b[1;32m    951\u001b[0m \u001b[38;5;129m@_copy_docstring_and_deprecators\u001b[39m(Figure\u001b[38;5;241m.\u001b[39msavefig)\n\u001b[1;32m    952\u001b[0m \u001b[38;5;28;01mdef\u001b[39;00m \u001b[38;5;21msavefig\u001b[39m(\u001b[38;5;241m*\u001b[39margs, \u001b[38;5;241m*\u001b[39m\u001b[38;5;241m*\u001b[39mkwargs):\n\u001b[1;32m    953\u001b[0m     fig \u001b[38;5;241m=\u001b[39m gcf()\n\u001b[0;32m--> 954\u001b[0m     res \u001b[38;5;241m=\u001b[39m \u001b[43mfig\u001b[49m\u001b[38;5;241;43m.\u001b[39;49m\u001b[43msavefig\u001b[49m\u001b[43m(\u001b[49m\u001b[38;5;241;43m*\u001b[39;49m\u001b[43margs\u001b[49m\u001b[43m,\u001b[49m\u001b[43m \u001b[49m\u001b[38;5;241;43m*\u001b[39;49m\u001b[38;5;241;43m*\u001b[39;49m\u001b[43mkwargs\u001b[49m\u001b[43m)\u001b[49m\n\u001b[1;32m    955\u001b[0m     fig\u001b[38;5;241m.\u001b[39mcanvas\u001b[38;5;241m.\u001b[39mdraw_idle()  \u001b[38;5;66;03m# Need this if 'transparent=True', to reset colors.\u001b[39;00m\n\u001b[1;32m    956\u001b[0m     \u001b[38;5;28;01mreturn\u001b[39;00m res\n",
      "File \u001b[0;32m~/anaconda3/envs/isat/lib/python3.10/site-packages/matplotlib/figure.py:3274\u001b[0m, in \u001b[0;36mFigure.savefig\u001b[0;34m(self, fname, transparent, **kwargs)\u001b[0m\n\u001b[1;32m   3270\u001b[0m     \u001b[38;5;28;01mfor\u001b[39;00m ax \u001b[38;5;129;01min\u001b[39;00m \u001b[38;5;28mself\u001b[39m\u001b[38;5;241m.\u001b[39maxes:\n\u001b[1;32m   3271\u001b[0m         stack\u001b[38;5;241m.\u001b[39menter_context(\n\u001b[1;32m   3272\u001b[0m             ax\u001b[38;5;241m.\u001b[39mpatch\u001b[38;5;241m.\u001b[39m_cm_set(facecolor\u001b[38;5;241m=\u001b[39m\u001b[38;5;124m'\u001b[39m\u001b[38;5;124mnone\u001b[39m\u001b[38;5;124m'\u001b[39m, edgecolor\u001b[38;5;241m=\u001b[39m\u001b[38;5;124m'\u001b[39m\u001b[38;5;124mnone\u001b[39m\u001b[38;5;124m'\u001b[39m))\n\u001b[0;32m-> 3274\u001b[0m \u001b[38;5;28;43mself\u001b[39;49m\u001b[38;5;241;43m.\u001b[39;49m\u001b[43mcanvas\u001b[49m\u001b[38;5;241;43m.\u001b[39;49m\u001b[43mprint_figure\u001b[49m\u001b[43m(\u001b[49m\u001b[43mfname\u001b[49m\u001b[43m,\u001b[49m\u001b[43m \u001b[49m\u001b[38;5;241;43m*\u001b[39;49m\u001b[38;5;241;43m*\u001b[39;49m\u001b[43mkwargs\u001b[49m\u001b[43m)\u001b[49m\n",
      "File \u001b[0;32m~/anaconda3/envs/isat/lib/python3.10/site-packages/matplotlib/backend_bases.py:2338\u001b[0m, in \u001b[0;36mFigureCanvasBase.print_figure\u001b[0;34m(self, filename, dpi, facecolor, edgecolor, orientation, format, bbox_inches, pad_inches, bbox_extra_artists, backend, **kwargs)\u001b[0m\n\u001b[1;32m   2334\u001b[0m \u001b[38;5;28;01mtry\u001b[39;00m:\n\u001b[1;32m   2335\u001b[0m     \u001b[38;5;66;03m# _get_renderer may change the figure dpi (as vector formats\u001b[39;00m\n\u001b[1;32m   2336\u001b[0m     \u001b[38;5;66;03m# force the figure dpi to 72), so we need to set it again here.\u001b[39;00m\n\u001b[1;32m   2337\u001b[0m     \u001b[38;5;28;01mwith\u001b[39;00m cbook\u001b[38;5;241m.\u001b[39m_setattr_cm(\u001b[38;5;28mself\u001b[39m\u001b[38;5;241m.\u001b[39mfigure, dpi\u001b[38;5;241m=\u001b[39mdpi):\n\u001b[0;32m-> 2338\u001b[0m         result \u001b[38;5;241m=\u001b[39m \u001b[43mprint_method\u001b[49m\u001b[43m(\u001b[49m\n\u001b[1;32m   2339\u001b[0m \u001b[43m            \u001b[49m\u001b[43mfilename\u001b[49m\u001b[43m,\u001b[49m\n\u001b[1;32m   2340\u001b[0m \u001b[43m            \u001b[49m\u001b[43mfacecolor\u001b[49m\u001b[38;5;241;43m=\u001b[39;49m\u001b[43mfacecolor\u001b[49m\u001b[43m,\u001b[49m\n\u001b[1;32m   2341\u001b[0m \u001b[43m            \u001b[49m\u001b[43medgecolor\u001b[49m\u001b[38;5;241;43m=\u001b[39;49m\u001b[43medgecolor\u001b[49m\u001b[43m,\u001b[49m\n\u001b[1;32m   2342\u001b[0m \u001b[43m            \u001b[49m\u001b[43morientation\u001b[49m\u001b[38;5;241;43m=\u001b[39;49m\u001b[43morientation\u001b[49m\u001b[43m,\u001b[49m\n\u001b[1;32m   2343\u001b[0m \u001b[43m            \u001b[49m\u001b[43mbbox_inches_restore\u001b[49m\u001b[38;5;241;43m=\u001b[39;49m\u001b[43m_bbox_inches_restore\u001b[49m\u001b[43m,\u001b[49m\n\u001b[1;32m   2344\u001b[0m \u001b[43m            \u001b[49m\u001b[38;5;241;43m*\u001b[39;49m\u001b[38;5;241;43m*\u001b[39;49m\u001b[43mkwargs\u001b[49m\u001b[43m)\u001b[49m\n\u001b[1;32m   2345\u001b[0m \u001b[38;5;28;01mfinally\u001b[39;00m:\n\u001b[1;32m   2346\u001b[0m     \u001b[38;5;28;01mif\u001b[39;00m bbox_inches \u001b[38;5;129;01mand\u001b[39;00m restore_bbox:\n",
      "File \u001b[0;32m~/anaconda3/envs/isat/lib/python3.10/site-packages/matplotlib/backend_bases.py:2204\u001b[0m, in \u001b[0;36mFigureCanvasBase._switch_canvas_and_return_print_method.<locals>.<lambda>\u001b[0;34m(*args, **kwargs)\u001b[0m\n\u001b[1;32m   2200\u001b[0m     optional_kws \u001b[38;5;241m=\u001b[39m {  \u001b[38;5;66;03m# Passed by print_figure for other renderers.\u001b[39;00m\n\u001b[1;32m   2201\u001b[0m         \u001b[38;5;124m\"\u001b[39m\u001b[38;5;124mdpi\u001b[39m\u001b[38;5;124m\"\u001b[39m, \u001b[38;5;124m\"\u001b[39m\u001b[38;5;124mfacecolor\u001b[39m\u001b[38;5;124m\"\u001b[39m, \u001b[38;5;124m\"\u001b[39m\u001b[38;5;124medgecolor\u001b[39m\u001b[38;5;124m\"\u001b[39m, \u001b[38;5;124m\"\u001b[39m\u001b[38;5;124morientation\u001b[39m\u001b[38;5;124m\"\u001b[39m,\n\u001b[1;32m   2202\u001b[0m         \u001b[38;5;124m\"\u001b[39m\u001b[38;5;124mbbox_inches_restore\u001b[39m\u001b[38;5;124m\"\u001b[39m}\n\u001b[1;32m   2203\u001b[0m     skip \u001b[38;5;241m=\u001b[39m optional_kws \u001b[38;5;241m-\u001b[39m {\u001b[38;5;241m*\u001b[39minspect\u001b[38;5;241m.\u001b[39msignature(meth)\u001b[38;5;241m.\u001b[39mparameters}\n\u001b[0;32m-> 2204\u001b[0m     print_method \u001b[38;5;241m=\u001b[39m functools\u001b[38;5;241m.\u001b[39mwraps(meth)(\u001b[38;5;28;01mlambda\u001b[39;00m \u001b[38;5;241m*\u001b[39margs, \u001b[38;5;241m*\u001b[39m\u001b[38;5;241m*\u001b[39mkwargs: \u001b[43mmeth\u001b[49m\u001b[43m(\u001b[49m\n\u001b[1;32m   2205\u001b[0m \u001b[43m        \u001b[49m\u001b[38;5;241;43m*\u001b[39;49m\u001b[43margs\u001b[49m\u001b[43m,\u001b[49m\u001b[43m \u001b[49m\u001b[38;5;241;43m*\u001b[39;49m\u001b[38;5;241;43m*\u001b[39;49m\u001b[43m{\u001b[49m\u001b[43mk\u001b[49m\u001b[43m:\u001b[49m\u001b[43m \u001b[49m\u001b[43mv\u001b[49m\u001b[43m \u001b[49m\u001b[38;5;28;43;01mfor\u001b[39;49;00m\u001b[43m \u001b[49m\u001b[43mk\u001b[49m\u001b[43m,\u001b[49m\u001b[43m \u001b[49m\u001b[43mv\u001b[49m\u001b[43m \u001b[49m\u001b[38;5;129;43;01min\u001b[39;49;00m\u001b[43m \u001b[49m\u001b[43mkwargs\u001b[49m\u001b[38;5;241;43m.\u001b[39;49m\u001b[43mitems\u001b[49m\u001b[43m(\u001b[49m\u001b[43m)\u001b[49m\u001b[43m \u001b[49m\u001b[38;5;28;43;01mif\u001b[39;49;00m\u001b[43m \u001b[49m\u001b[43mk\u001b[49m\u001b[43m \u001b[49m\u001b[38;5;129;43;01mnot\u001b[39;49;00m\u001b[43m \u001b[49m\u001b[38;5;129;43;01min\u001b[39;49;00m\u001b[43m \u001b[49m\u001b[43mskip\u001b[49m\u001b[43m}\u001b[49m\u001b[43m)\u001b[49m)\n\u001b[1;32m   2206\u001b[0m \u001b[38;5;28;01melse\u001b[39;00m:  \u001b[38;5;66;03m# Let third-parties do as they see fit.\u001b[39;00m\n\u001b[1;32m   2207\u001b[0m     print_method \u001b[38;5;241m=\u001b[39m meth\n",
      "File \u001b[0;32m~/anaconda3/envs/isat/lib/python3.10/site-packages/matplotlib/_api/deprecation.py:410\u001b[0m, in \u001b[0;36mdelete_parameter.<locals>.wrapper\u001b[0;34m(*inner_args, **inner_kwargs)\u001b[0m\n\u001b[1;32m    400\u001b[0m     deprecation_addendum \u001b[38;5;241m=\u001b[39m (\n\u001b[1;32m    401\u001b[0m         \u001b[38;5;124mf\u001b[39m\u001b[38;5;124m\"\u001b[39m\u001b[38;5;124mIf any parameter follows \u001b[39m\u001b[38;5;132;01m{\u001b[39;00mname\u001b[38;5;132;01m!r}\u001b[39;00m\u001b[38;5;124m, they should be passed as \u001b[39m\u001b[38;5;124m\"\u001b[39m\n\u001b[1;32m    402\u001b[0m         \u001b[38;5;124mf\u001b[39m\u001b[38;5;124m\"\u001b[39m\u001b[38;5;124mkeyword, not positionally.\u001b[39m\u001b[38;5;124m\"\u001b[39m)\n\u001b[1;32m    403\u001b[0m     warn_deprecated(\n\u001b[1;32m    404\u001b[0m         since,\n\u001b[1;32m    405\u001b[0m         name\u001b[38;5;241m=\u001b[39m\u001b[38;5;28mrepr\u001b[39m(name),\n\u001b[0;32m   (...)\u001b[0m\n\u001b[1;32m    408\u001b[0m                  \u001b[38;5;28;01melse\u001b[39;00m deprecation_addendum,\n\u001b[1;32m    409\u001b[0m         \u001b[38;5;241m*\u001b[39m\u001b[38;5;241m*\u001b[39mkwargs)\n\u001b[0;32m--> 410\u001b[0m \u001b[38;5;28;01mreturn\u001b[39;00m \u001b[43mfunc\u001b[49m\u001b[43m(\u001b[49m\u001b[38;5;241;43m*\u001b[39;49m\u001b[43minner_args\u001b[49m\u001b[43m,\u001b[49m\u001b[43m \u001b[49m\u001b[38;5;241;43m*\u001b[39;49m\u001b[38;5;241;43m*\u001b[39;49m\u001b[43minner_kwargs\u001b[49m\u001b[43m)\u001b[49m\n",
      "File \u001b[0;32m~/anaconda3/envs/isat/lib/python3.10/site-packages/matplotlib/backends/backend_agg.py:517\u001b[0m, in \u001b[0;36mFigureCanvasAgg.print_png\u001b[0;34m(self, filename_or_obj, metadata, pil_kwargs, *args)\u001b[0m\n\u001b[1;32m    468\u001b[0m \u001b[38;5;129m@_api\u001b[39m\u001b[38;5;241m.\u001b[39mdelete_parameter(\u001b[38;5;124m\"\u001b[39m\u001b[38;5;124m3.5\u001b[39m\u001b[38;5;124m\"\u001b[39m, \u001b[38;5;124m\"\u001b[39m\u001b[38;5;124margs\u001b[39m\u001b[38;5;124m\"\u001b[39m)\n\u001b[1;32m    469\u001b[0m \u001b[38;5;28;01mdef\u001b[39;00m \u001b[38;5;21mprint_png\u001b[39m(\u001b[38;5;28mself\u001b[39m, filename_or_obj, \u001b[38;5;241m*\u001b[39margs,\n\u001b[1;32m    470\u001b[0m               metadata\u001b[38;5;241m=\u001b[39m\u001b[38;5;28;01mNone\u001b[39;00m, pil_kwargs\u001b[38;5;241m=\u001b[39m\u001b[38;5;28;01mNone\u001b[39;00m):\n\u001b[1;32m    471\u001b[0m     \u001b[38;5;124;03m\"\"\"\u001b[39;00m\n\u001b[1;32m    472\u001b[0m \u001b[38;5;124;03m    Write the figure to a PNG file.\u001b[39;00m\n\u001b[1;32m    473\u001b[0m \n\u001b[0;32m   (...)\u001b[0m\n\u001b[1;32m    515\u001b[0m \u001b[38;5;124;03m        *metadata*, including the default 'Software' key.\u001b[39;00m\n\u001b[1;32m    516\u001b[0m \u001b[38;5;124;03m    \"\"\"\u001b[39;00m\n\u001b[0;32m--> 517\u001b[0m     \u001b[38;5;28;43mself\u001b[39;49m\u001b[38;5;241;43m.\u001b[39;49m\u001b[43m_print_pil\u001b[49m\u001b[43m(\u001b[49m\u001b[43mfilename_or_obj\u001b[49m\u001b[43m,\u001b[49m\u001b[43m \u001b[49m\u001b[38;5;124;43m\"\u001b[39;49m\u001b[38;5;124;43mpng\u001b[39;49m\u001b[38;5;124;43m\"\u001b[39;49m\u001b[43m,\u001b[49m\u001b[43m \u001b[49m\u001b[43mpil_kwargs\u001b[49m\u001b[43m,\u001b[49m\u001b[43m \u001b[49m\u001b[43mmetadata\u001b[49m\u001b[43m)\u001b[49m\n",
      "File \u001b[0;32m~/anaconda3/envs/isat/lib/python3.10/site-packages/matplotlib/backends/backend_agg.py:464\u001b[0m, in \u001b[0;36mFigureCanvasAgg._print_pil\u001b[0;34m(self, filename_or_obj, fmt, pil_kwargs, metadata)\u001b[0m\n\u001b[1;32m    459\u001b[0m \u001b[38;5;124;03m\"\"\"\u001b[39;00m\n\u001b[1;32m    460\u001b[0m \u001b[38;5;124;03mDraw the canvas, then save it using `.image.imsave` (to which\u001b[39;00m\n\u001b[1;32m    461\u001b[0m \u001b[38;5;124;03m*pil_kwargs* and *metadata* are forwarded).\u001b[39;00m\n\u001b[1;32m    462\u001b[0m \u001b[38;5;124;03m\"\"\"\u001b[39;00m\n\u001b[1;32m    463\u001b[0m FigureCanvasAgg\u001b[38;5;241m.\u001b[39mdraw(\u001b[38;5;28mself\u001b[39m)\n\u001b[0;32m--> 464\u001b[0m \u001b[43mmpl\u001b[49m\u001b[38;5;241;43m.\u001b[39;49m\u001b[43mimage\u001b[49m\u001b[38;5;241;43m.\u001b[39;49m\u001b[43mimsave\u001b[49m\u001b[43m(\u001b[49m\n\u001b[1;32m    465\u001b[0m \u001b[43m    \u001b[49m\u001b[43mfilename_or_obj\u001b[49m\u001b[43m,\u001b[49m\u001b[43m \u001b[49m\u001b[38;5;28;43mself\u001b[39;49m\u001b[38;5;241;43m.\u001b[39;49m\u001b[43mbuffer_rgba\u001b[49m\u001b[43m(\u001b[49m\u001b[43m)\u001b[49m\u001b[43m,\u001b[49m\u001b[43m \u001b[49m\u001b[38;5;28;43mformat\u001b[39;49m\u001b[38;5;241;43m=\u001b[39;49m\u001b[43mfmt\u001b[49m\u001b[43m,\u001b[49m\u001b[43m \u001b[49m\u001b[43morigin\u001b[49m\u001b[38;5;241;43m=\u001b[39;49m\u001b[38;5;124;43m\"\u001b[39;49m\u001b[38;5;124;43mupper\u001b[39;49m\u001b[38;5;124;43m\"\u001b[39;49m\u001b[43m,\u001b[49m\n\u001b[1;32m    466\u001b[0m \u001b[43m    \u001b[49m\u001b[43mdpi\u001b[49m\u001b[38;5;241;43m=\u001b[39;49m\u001b[38;5;28;43mself\u001b[39;49m\u001b[38;5;241;43m.\u001b[39;49m\u001b[43mfigure\u001b[49m\u001b[38;5;241;43m.\u001b[39;49m\u001b[43mdpi\u001b[49m\u001b[43m,\u001b[49m\u001b[43m \u001b[49m\u001b[43mmetadata\u001b[49m\u001b[38;5;241;43m=\u001b[39;49m\u001b[43mmetadata\u001b[49m\u001b[43m,\u001b[49m\u001b[43m \u001b[49m\u001b[43mpil_kwargs\u001b[49m\u001b[38;5;241;43m=\u001b[39;49m\u001b[43mpil_kwargs\u001b[49m\u001b[43m)\u001b[49m\n",
      "File \u001b[0;32m~/anaconda3/envs/isat/lib/python3.10/site-packages/matplotlib/image.py:1664\u001b[0m, in \u001b[0;36mimsave\u001b[0;34m(fname, arr, vmin, vmax, cmap, format, origin, dpi, metadata, pil_kwargs)\u001b[0m\n\u001b[1;32m   1662\u001b[0m pil_kwargs\u001b[38;5;241m.\u001b[39msetdefault(\u001b[38;5;124m\"\u001b[39m\u001b[38;5;124mformat\u001b[39m\u001b[38;5;124m\"\u001b[39m, \u001b[38;5;28mformat\u001b[39m)\n\u001b[1;32m   1663\u001b[0m pil_kwargs\u001b[38;5;241m.\u001b[39msetdefault(\u001b[38;5;124m\"\u001b[39m\u001b[38;5;124mdpi\u001b[39m\u001b[38;5;124m\"\u001b[39m, (dpi, dpi))\n\u001b[0;32m-> 1664\u001b[0m \u001b[43mimage\u001b[49m\u001b[38;5;241;43m.\u001b[39;49m\u001b[43msave\u001b[49m\u001b[43m(\u001b[49m\u001b[43mfname\u001b[49m\u001b[43m,\u001b[49m\u001b[43m \u001b[49m\u001b[38;5;241;43m*\u001b[39;49m\u001b[38;5;241;43m*\u001b[39;49m\u001b[43mpil_kwargs\u001b[49m\u001b[43m)\u001b[49m\n",
      "File \u001b[0;32m~/anaconda3/envs/isat/lib/python3.10/site-packages/PIL/Image.py:2350\u001b[0m, in \u001b[0;36mImage.save\u001b[0;34m(self, fp, format, **params)\u001b[0m\n\u001b[1;32m   2348\u001b[0m         fp \u001b[38;5;241m=\u001b[39m builtins\u001b[38;5;241m.\u001b[39mopen(filename, \u001b[38;5;124m\"\u001b[39m\u001b[38;5;124mr+b\u001b[39m\u001b[38;5;124m\"\u001b[39m)\n\u001b[1;32m   2349\u001b[0m     \u001b[38;5;28;01melse\u001b[39;00m:\n\u001b[0;32m-> 2350\u001b[0m         fp \u001b[38;5;241m=\u001b[39m \u001b[43mbuiltins\u001b[49m\u001b[38;5;241;43m.\u001b[39;49m\u001b[43mopen\u001b[49m\u001b[43m(\u001b[49m\u001b[43mfilename\u001b[49m\u001b[43m,\u001b[49m\u001b[43m \u001b[49m\u001b[38;5;124;43m\"\u001b[39;49m\u001b[38;5;124;43mw+b\u001b[39;49m\u001b[38;5;124;43m\"\u001b[39;49m\u001b[43m)\u001b[49m\n\u001b[1;32m   2352\u001b[0m \u001b[38;5;28;01mtry\u001b[39;00m:\n\u001b[1;32m   2353\u001b[0m     save_handler(\u001b[38;5;28mself\u001b[39m, fp, filename)\n",
      "\u001b[0;31mFileNotFoundError\u001b[0m: [Errno 2] No such file or directory: './2x3/0.png'"
     ]
    },
    {
     "data": {
      "image/png": "[encoded data removed]",
      "text/plain": [
       "<Figure size 640x480 with 1 Axes>"
      ]
     },
     "metadata": {},
     "output_type": "display_data"
    }
   ],
   "source": [
    "nx.draw(H, pos, with_labels=True, font_color=\"#FFFFFF\")\n",
    "plt.savefig('./2x3/'+str(0)+'.png')\n",
    "dissassemblyStrat[-1] = (4,5)\n",
    "strat = dissassemblyStrat\n",
    "\n",
    "for i in range(len(strat)):\n",
    "    nx.draw_networkx_edges(H, pos, edgelist=strat[0:i+1], edge_color='r', width=2)\n",
    "    Ha.remove_edges_from([strat[i]])\n",
    "    for p in nx.isolates(Ha):\n",
    "        nx.draw_networkx_nodes(H,pos,nodelist=[p],node_color='r')\n",
    "    plt.savefig('./2x3/'+str(i+1)+'.png')"
   ]
  },
  {
   "cell_type": "code",
   "execution_count": 9,
   "id": "421f5ac5",
   "metadata": {},
   "outputs": [
    {
     "name": "stdout",
     "output_type": "stream",
     "text": [
      "No Policy Found\n",
      "DONE: 8 Nodes and 12 Edges\n"
     ]
    },
    {
     "data": {
      "image/png": "[encoded data removed]",
      "text/plain": [
       "<Figure size 640x480 with 1 Axes>"
      ]
     },
     "metadata": {},
     "output_type": "display_data"
    }
   ],
   "source": [
    "debug = True\n",
    "\n",
    "if(debug):\n",
    "    try:\n",
    "        pos = hierarchy_pos(G,1)\n",
    "    except:\n",
    "        pos = nx.planar_layout(G)\n",
    "    actions = nx.get_edge_attributes(G,'r')\n",
    "    nx.draw(G, pos, with_labels=True, font_color=\"#FFFFFF\")\n",
    "    #nx.draw_networkx_edge_labels(G, pos, edge_labels = actions)\n",
    "\n",
    "\n",
    "    try:\n",
    "        a = 1/0\n",
    "        S = range(1, G.number_of_nodes()+1)\n",
    "        path = [1, π[1][0]]\n",
    "        path_edges = [(1, path[-1])]\n",
    "        while(True):\n",
    "            currState = path[-1]\n",
    "            nextState = π[currState][0]\n",
    "            if(nextState in S):\n",
    "                path.append(nextState)\n",
    "                path_edges.append((currState, nextState))\n",
    "            else:\n",
    "                break\n",
    "        print(path_edges)\n",
    "        nx.draw_networkx_nodes(G,pos,nodelist=path,node_color='r')\n",
    "        nx.draw_networkx_edges(G,pos,edgelist=path_edges,edge_color='r',width=1)\n",
    "    except:\n",
    "        print(\"No Policy Found\")\n",
    "\n",
    "    print(\"DONE: %d Nodes and %d Edges\" % (G.number_of_nodes(), G.number_of_edges()))"
   ]
  },
  {
   "cell_type": "code",
   "execution_count": null,
   "id": "c58db6b5",
   "metadata": {},
   "outputs": [],
   "source": [
    "if(debug):\n",
    "    V = G.copy()\n",
    "    try:\n",
    "        plotVis(V)\n",
    "    except:\n",
    "        try:\n",
    "            plotVis(V)\n",
    "        except:\n",
    "            print(\"Nope!\")"
   ]
  }
 ],
 "metadata": {
  "kernelspec": {
   "display_name": "Python 3 (ipykernel)",
   "language": "python",
   "name": "python3"
  },
  "language_info": {
   "codemirror_mode": {
    "name": "ipython",
    "version": 3
   },
   "file_extension": ".py",
   "mimetype": "text/x-python",
   "name": "python",
   "nbconvert_exporter": "python",
   "pygments_lexer": "ipython3",
   "version": "3.10.8"
  }
 },
 "nbformat": 4,
 "nbformat_minor": 5
}
